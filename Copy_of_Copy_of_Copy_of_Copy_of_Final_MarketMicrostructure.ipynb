{
  "nbformat": 4,
  "nbformat_minor": 0,
  "metadata": {
    "colab": {
      "name": "Copy of Copy of Copy of Copy of Final_MarketMicrostructure.ipynb",
      "provenance": [],
      "collapsed_sections": [
        "RDFkLT_TL8Wp",
        "vjCpycbLWSTd"
      ],
      "include_colab_link": true
    },
    "kernelspec": {
      "name": "python3",
      "display_name": "Python 3"
    },
    "language_info": {
      "name": "python"
    }
  },
  "cells": [
    {
      "cell_type": "markdown",
      "metadata": {
        "id": "view-in-github",
        "colab_type": "text"
      },
      "source": [
        "<a href=\"https://colab.research.google.com/github/shayanAbbasi1995/Non-financial-misconduct-and-Market-reaction/blob/main/Copy_of_Copy_of_Copy_of_Copy_of_Final_MarketMicrostructure.ipynb\" target=\"_parent\"><img src=\"https://colab.research.google.com/assets/colab-badge.svg\" alt=\"Open In Colab\"/></a>"
      ]
    },
    {
      "cell_type": "markdown",
      "metadata": {
        "id": "B9IJfG9qMv1z"
      },
      "source": [
        "#DATA and LIBs"
      ]
    },
    {
      "cell_type": "code",
      "metadata": {
        "id": "vfH4d8V5Mv10"
      },
      "source": [
        "import numpy as np\n",
        "import matplotlib.pyplot as plt"
      ],
      "execution_count": null,
      "outputs": []
    },
    {
      "cell_type": "code",
      "metadata": {
        "colab": {
          "base_uri": "https://localhost:8080/"
        },
        "id": "knzy0_CoMv10",
        "outputId": "95e41ff8-e4fc-41fc-a469-f4529e470a64"
      },
      "source": [
        "# Run this if running in Google Collab\n",
        "# Mount google drive if running from Google Collab\n",
        "from google.colab import drive\n",
        "drive.mount('/content/drive')\n",
        "\n",
        "# Set current directory if running from Google Collab\n",
        "\n",
        "import os\n",
        "os.chdir('/content/drive/My Drive/Colab Notebooks/SP500')# here use your path to current notebook"
      ],
      "execution_count": null,
      "outputs": [
        {
          "output_type": "stream",
          "text": [
            "Mounted at /content/drive\n"
          ],
          "name": "stdout"
        }
      ]
    },
    {
      "cell_type": "code",
      "metadata": {
        "id": "P86UECt7Mv11"
      },
      "source": [
        "import pandas as pd\n",
        "# SP500 data\n",
        "mic_sample_pos = pd.read_excel('./mic_sample_pos.xlsx') # DAtaset was for 2016-2020\n",
        "mic_sample_neg = pd.read_excel('./mic_sample_neg.xlsx')\n",
        "date_ts = pd.read_csv('./INDEXES.csv').DATE"
      ],
      "execution_count": null,
      "outputs": []
    },
    {
      "cell_type": "markdown",
      "metadata": {
        "id": "xgTHwyhSMv12"
      },
      "source": [
        "# Main Functions"
      ]
    },
    {
      "cell_type": "code",
      "metadata": {
        "id": "tzz6sJoKMv12"
      },
      "source": [
        "def clean_df(df):\n",
        "  mean_ask = df.ASK.mean()\n",
        "  mean_bid = df.BID.mean()\n",
        "  mask1 = (df.ASK > mean_ask*0.5) | (df.BID > mean_bid*0.5)\n",
        "  mask2 = (df.ASK > 0.) & (df.BID > 0.)\n",
        "  df = df[mask1]\n",
        "  df = df[mask2]\n",
        "  return df"
      ],
      "execution_count": null,
      "outputs": []
    },
    {
      "cell_type": "code",
      "metadata": {
        "id": "7vjxRbXVMv13"
      },
      "source": [
        "def get_win_df(date_ts, df, ev_date, win=20):\n",
        "  '''\n",
        "  ev_date is in '20170105' format.\n",
        "  '''\n",
        "  lower_bound = date_ts.index[date_ts >= int(ev_date)][0]-win-2\n",
        "  upper_bound = date_ts.index[date_ts >= int(ev_date)][0]+win+1\n",
        "  mask1 = df.DATE>date_ts[lower_bound]\n",
        "  mask2 = df.DATE<date_ts[upper_bound]\n",
        "  return df[mask1][mask2]\n",
        "  '''\n",
        "  the result will be a column of date and a column of ticker returns\n",
        "  '''\n",
        "  return result #returns df of date and return for the specific return"
      ],
      "execution_count": null,
      "outputs": []
    },
    {
      "cell_type": "code",
      "metadata": {
        "id": "qLOIRtSfMv13"
      },
      "source": [
        "def get_data(date_ts, ticker, date, ev_win=20): #ev_win is an int like 20\n",
        "    int_date = int(str(date)[0:4]+str(date)[5:7]+str(date)[8:10])\n",
        "    temp_df1 = clean_df(pd.read_csv(f'./Micro data/NEG/{ticker}_{str(date)[0:4]}_{str(date)[5:7]}_{str(date)[8:10]}/1.csv'))\n",
        "    temp_df2 = clean_df(pd.read_csv(f'./Micro data/NEG/{ticker}_{str(date)[0:4]}_{str(date)[5:7]}_{str(date)[8:10]}/2.csv'))\n",
        "    df = temp_df1.append(temp_df2, ignore_index=True)\n",
        "    del temp_df1\n",
        "    del temp_df2\n",
        "    try:\n",
        "        temp_df3 = clean_df(pd.read_csv(f'./Micro data/NEG/{ticker}_{str(date)[0:4]}_{str(date)[5:7]}_{str(date)[8:10]}/3.csv'))\n",
        "        df = df.append(temp_df3, ignore_index=True)\n",
        "        del temp_df3\n",
        "    except:\n",
        "        pass\n",
        "    df.DATE = pd.to_datetime(df.DATE, format='%Y%m%d')\n",
        "    df.TIME_M = pd.to_timedelta(df.TIME_M)\n",
        "    return df.drop(['SYM_SUFFIX'], axis=1)"
      ],
      "execution_count": null,
      "outputs": []
    },
    {
      "cell_type": "code",
      "metadata": {
        "id": "dU_AYVz8Mv13"
      },
      "source": [
        "def get_trade(date_ts, ticker, date, ev_win=20):\n",
        "    trade = pd.read_csv(f'./Micro data/NEG trade/{ticker}_{str(date)[0:4]}_{str(date)[5:7]}_{str(date)[8:10]}/1.csv')\n",
        "    try:\n",
        "        temp_df = pd.read_csv(f'./Micro data/NEG trade/{ticker}_{str(date)[0:4]}_{str(date)[5:7]}_{str(date)[8:10]}/2.csv')\n",
        "        trade = trade.append(temp_df, ignore_index=True)\n",
        "        del temp_df\n",
        "    except:\n",
        "        pass\n",
        "    trade.DATE = pd.to_datetime(trade.DATE, format='%Y%m%d')\n",
        "    trade.TIME_M = pd.to_timedelta(trade.TIME_M)\n",
        "    return trade.drop(['SYM_SUFFIX'], axis=1)"
      ],
      "execution_count": null,
      "outputs": []
    },
    {
      "cell_type": "code",
      "metadata": {
        "id": "MMV933OnMv14"
      },
      "source": [
        "import time\n",
        "\n",
        "def cal_vars(df, trade_df):\n",
        "\n",
        "  result = pd.DataFrame()\n",
        "  df['midquote'] = (df.ASK+df.BID)/2\n",
        "  df['qouted_spread'] = (df.ASK-df.BID)/(df['midquote'])\n",
        "  \n",
        "\n",
        "  trade_df['qouted_spread'] = np.nan\n",
        "  trade_df['effective_spread'] = np.nan\n",
        "  trade_df['midquote'] = np.nan\n",
        "  trade_df['d'] = np.nan\n",
        "  \n",
        "  for i in range(0,len(trade_df.TIME_M)):\n",
        "    temp = df[df.DATE == trade_df.DATE.iloc[i]]\n",
        "    mask2 = trade_df.TIME_M.iloc[i] >= temp.TIME_M \n",
        "    try:\n",
        "      trade_df['midquote'].iloc[i] = temp[mask2].midquote.iloc[-1]\n",
        "    except:\n",
        "      trade_df['midquote'].iloc[i] = None\n",
        "    try:\n",
        "      trade_df['qouted_spread'].iloc[i] = np.abs(temp[mask2].qouted_spread.iloc[-1])\n",
        "    except:\n",
        "      pass\n",
        "    #print(f'price={trade_df.PRICE.iloc[i]}  mid={trade_df.midquote.iloc[i]},  time={trade_df.TIME_M.iloc[i]},   date={trade_df.DATE.iloc[i]}')\n",
        "\n",
        "  for i in range(1,len(trade_df.TIME_M)):\n",
        "    if (trade_df.PRICE.iloc[i] != trade_df.midquote.iloc[i-1])\\\n",
        "    and (trade_df.PRICE.iloc[i]>trade_df.midquote.iloc[i]):\n",
        "      trade_df.d.iloc[i] = 1\n",
        "    elif (trade_df.PRICE.iloc[i] != trade_df.midquote.iloc[i-1])\\\n",
        "    and (trade_df.PRICE.iloc[i]<trade_df.midquote.iloc[i]):\n",
        "      trade_df.d.iloc[i] = -1\n",
        "    elif (trade_df.PRICE.iloc[i] == trade_df.midquote.iloc[i-1])\\\n",
        "    and (trade_df.PRICE.iloc[i]>trade_df.PRICE.iloc[i-1]):\n",
        "      trade_df.d.iloc[i] = 1\n",
        "    elif (trade_df.PRICE.iloc[i] == trade_df.midquote.iloc[i-1])\\\n",
        "    and (trade_df.PRICE.iloc[i]<trade_df.PRICE.iloc[i-1]):\n",
        "      trade_df.d.iloc[i] = -1\n",
        "    else:\n",
        "      trade_df.d.iloc[i] = None\n",
        "\n",
        "  trade_df.d.fillna(method='ffill')\n",
        "\n",
        "  start = time.time()\n",
        "  trade_df['effective_spread'] =  2 * (trade_df.PRICE - trade_df.midquote) * trade_df.d\n",
        "\n",
        "  delta_30m = pd.Timedelta(1800000000000)\n",
        "\n",
        "  trade_df['realized_spread_30m'] = np.nan\n",
        "\n",
        "  for i in range(1,len(trade_df.TIME_M)):\n",
        "    try:\n",
        "      trade_df['realized_spread_30m'].iloc[i] = 2 * (trade_df.PRICE.iloc[i] - trade_df[trade_df.TIME_M > trade_df.TIME_M.iloc[i]+delta_30m].midquote.iloc[0]) * trade_df.d.iloc[i]\n",
        "    except:\n",
        "      trade_df['realized_spread_30m'].iloc[i] = None\n",
        "\n",
        "  trade_df['price_impact_30m'] = trade_df['effective_spread'] - trade_df['realized_spread_30m']\n",
        "\n",
        "  trade_df['illiquid_ratio'] = np.nan\n",
        "  for i in range(1,len(trade_df.TIME_M)):\n",
        "    trade_df['illiquid_ratio'].iloc[i] = (np.abs(np.log(trade_df.PRICE.iloc[i]) - np.log(trade_df.PRICE.iloc[i-1])))/(trade_df.SIZE.iloc[i]*trade_df.PRICE.iloc[i])\n",
        "  return trade_df"
      ],
      "execution_count": null,
      "outputs": []
    },
    {
      "cell_type": "code",
      "metadata": {
        "id": "W-qgBBXFMv14"
      },
      "source": [
        "def make_daily_agg_vars(time_array, cols, result):\n",
        "  agg_result = pd.DataFrame()\n",
        "  agg_result['time'] = range(len(time_array)-1)\n",
        "  for k in cols:\n",
        "    agg_result[k] = np.nan\n",
        "  print(agg_result)\n",
        "  for j in range(len(cols)):\n",
        "    for i in range(1,len(time_array)):\n",
        "      low_bound_mask = result.TIME_M>time_array[i-1]\n",
        "      high_bound_mask = result.TIME_M<time_array[i]\n",
        "      agg_result.iloc[i-1, j+1] = result[low_bound_mask][high_bound_mask][cols[j]].mean(skipna=True)\n",
        "  return agg_result"
      ],
      "execution_count": null,
      "outputs": []
    },
    {
      "cell_type": "code",
      "metadata": {
        "id": "zPNvOfXkMv14"
      },
      "source": [
        "def missing_rep(df, ticker, ev_date):\n",
        "  print(df.shape)\n",
        "  df.replace([np.inf, -np.inf], np.nan)\n",
        "  Nulls = df.isnull().sum()\n",
        "  plt.figure(figsize=(20,8))\n",
        "  plt.xticks(rotation=\"vertical\")\n",
        "  plt.bar(Nulls.index, 100*Nulls.values/len(df.index))\n",
        "  plt.ylabel(\"% of missing data\")\n",
        "  plt.title(f'Missing report for {ticker} at {ev_date}')\n",
        "  plt.show()\n",
        "  "
      ],
      "execution_count": null,
      "outputs": []
    },
    {
      "cell_type": "code",
      "metadata": {
        "id": "OLiXpOulMv14"
      },
      "source": [
        "def get_eve_win_agg_vars(date_ts, ticker, eve_date, MM_cols, delta=pd.Timedelta(1800000000000), num_intraday_period =14, num_delta=19, missing_report=False, null_report=False, plot_vars=False, HP_filter=False):\n",
        "  print(f'The process for Ticker {ticker} begins')\n",
        "  trade_df = get_trade(date_ts, ticker, eve_date)\n",
        "  df = get_data(date_ts, ticker, eve_date)\n",
        "  win_date = list(trade_df.DATE.value_counts().index.sort_values())\n",
        "  '''\n",
        "  if missing_report==True:\n",
        "    print('Missing report for consolidated qoutes')\n",
        "    missing_rep(df, ticker, ev_date)\n",
        "    print('Missing report for consolidated trades')\n",
        "    missing_rep(trade_df, ticker, ev_date)\n",
        "  '''\n",
        "\n",
        "  agg_eve_vars = pd.DataFrame()\n",
        "  if os.path.isfile(f'./Micro data/NEG/{ticker}_{str(eve_date)[0:4]}_{str(eve_date)[5:7]}_{str(eve_date)[8:10]}/Partial result.xlsx'):\n",
        "    print (\"Partial File exist\")\n",
        "    agg_eve_vars = pd.read_excel(f'./Micro data/NEG/{ticker}_{str(eve_date)[0:4]}_{str(eve_date)[5:7]}_{str(eve_date)[8:10]}/Partial result.xlsx').iloc[:,1:]\n",
        "    for i in range(int(agg_eve_vars.shape[0]/13)):\n",
        "      win_date.pop(0)\n",
        "  \n",
        "  for date in win_date:\n",
        "    result = cal_vars(df[df.DATE == date], trade_df[trade_df.DATE == date])\n",
        "\n",
        "    time_array = [pd.to_timedelta(delta*num_delta)]\n",
        "    for i in range(num_intraday_period-1):\n",
        "      time_array.append(time_array[i]+delta)\n",
        "\n",
        "    agg_result = make_daily_agg_vars(time_array, MM_cols, result)\n",
        "    '''\n",
        "    if missing_report==True:\n",
        "      print('Missing report for Mictostructure variables')\n",
        "      missing_rep(result, f'{ticker}_result', date)\n",
        "      print('Missing report for AGG variables')\n",
        "      missing_rep(result, f'{ticker}_result_agg', date)\n",
        "    '''\n",
        "    agg_eve_vars = agg_eve_vars.append(agg_result, ignore_index=True)\n",
        "    print(f'Process completed for {date}')\n",
        "    # create excel writer object\n",
        "    writer = pd.ExcelWriter(f'./Micro data/NEG/{ticker}_{str(eve_date)[0:4]}_{str(eve_date)[5:7]}_{str(eve_date)[8:10]}/Partial result.xlsx')\n",
        "    # write dataframe to excel\n",
        "    agg_eve_vars.to_excel(writer)\n",
        "    # save the excel\n",
        "    writer.save()\n",
        "  return agg_eve_vars"
      ],
      "execution_count": null,
      "outputs": []
    },
    {
      "cell_type": "markdown",
      "metadata": {
        "id": "jJeM-eetMv15"
      },
      "source": [
        "#Implementing"
      ]
    },
    {
      "cell_type": "code",
      "metadata": {
        "id": "biOqqzASMv15"
      },
      "source": [
        "def run(date_ts, mic_sample_neg):\n",
        "\n",
        "  MM_cols = ['SIZE', 'PRICE', 'qouted_spread', 'effective_spread', 'midquote', 'realized_spread_30m', 'price_impact_30m', 'illiquid_ratio']\n",
        "  for ticker,eve_date in zip(mic_sample_neg.ticker,mic_sample_neg.date):\n",
        "    if os.path.isfile(f'./Micro data/NEG/{ticker}_{str(eve_date)[0:4]}_{str(eve_date)[5:7]}_{str(eve_date)[8:10]}/Agg_result.xlsx'):\n",
        "      print (f\"File exist for {ticker}_{str(eve_date)[0:4]}_{str(eve_date)[5:7]}_{str(eve_date)[8:10]}\")\n",
        "    else:\n",
        "      print (\"File not exist\")\n",
        "      eve_add_df = get_eve_win_agg_vars(date_ts, ticker, eve_date, MM_cols, delta=pd.Timedelta(1800000000000), num_delta=19, missing_report=False, null_report=False, plot_vars=False, HP_filter=False)\n",
        "      # create excel writer object\n",
        "      writer = pd.ExcelWriter(f'./Micro data/NEG/{ticker}_{str(eve_date)[0:4]}_{str(eve_date)[5:7]}_{str(eve_date)[8:10]}/Agg_result.xlsx')\n",
        "      # write dataframe to excel\n",
        "      eve_add_df.to_excel(writer)\n",
        "      # save the excel\n",
        "      writer.save()"
      ],
      "execution_count": null,
      "outputs": []
    },
    {
      "cell_type": "code",
      "metadata": {
        "colab": {
          "base_uri": "https://localhost:8080/"
        },
        "id": "bw-S51hK14o6",
        "outputId": "3aed718d-bf63-4815-d63f-b6e939fc017f"
      },
      "source": [
        "run(date_ts, mic_sample_neg.iloc[19:20])"
      ],
      "execution_count": null,
      "outputs": [
        {
          "output_type": "stream",
          "text": [
            "File not exist\n",
            "The process for Ticker VZ begins\n"
          ],
          "name": "stdout"
        },
        {
          "output_type": "stream",
          "text": [
            "/usr/local/lib/python3.7/dist-packages/ipykernel_launcher.py:7: UserWarning: Boolean Series key will be reindexed to match DataFrame index.\n",
            "  import sys\n",
            "/usr/local/lib/python3.7/dist-packages/ipykernel_launcher.py:7: UserWarning: Boolean Series key will be reindexed to match DataFrame index.\n",
            "  import sys\n",
            "/usr/local/lib/python3.7/dist-packages/ipykernel_launcher.py:7: UserWarning: Boolean Series key will be reindexed to match DataFrame index.\n",
            "  import sys\n"
          ],
          "name": "stderr"
        },
        {
          "output_type": "stream",
          "text": [
            "Partial File exist\n"
          ],
          "name": "stdout"
        },
        {
          "output_type": "stream",
          "text": [
            "/usr/local/lib/python3.7/dist-packages/ipykernel_launcher.py:6: SettingWithCopyWarning: \n",
            "A value is trying to be set on a copy of a slice from a DataFrame.\n",
            "Try using .loc[row_indexer,col_indexer] = value instead\n",
            "\n",
            "See the caveats in the documentation: https://pandas.pydata.org/pandas-docs/stable/user_guide/indexing.html#returning-a-view-versus-a-copy\n",
            "  \n",
            "/usr/local/lib/python3.7/dist-packages/ipykernel_launcher.py:7: SettingWithCopyWarning: \n",
            "A value is trying to be set on a copy of a slice from a DataFrame.\n",
            "Try using .loc[row_indexer,col_indexer] = value instead\n",
            "\n",
            "See the caveats in the documentation: https://pandas.pydata.org/pandas-docs/stable/user_guide/indexing.html#returning-a-view-versus-a-copy\n",
            "  import sys\n",
            "/usr/local/lib/python3.7/dist-packages/ipykernel_launcher.py:10: SettingWithCopyWarning: \n",
            "A value is trying to be set on a copy of a slice from a DataFrame.\n",
            "Try using .loc[row_indexer,col_indexer] = value instead\n",
            "\n",
            "See the caveats in the documentation: https://pandas.pydata.org/pandas-docs/stable/user_guide/indexing.html#returning-a-view-versus-a-copy\n",
            "  # Remove the CWD from sys.path while we load stuff.\n",
            "/usr/local/lib/python3.7/dist-packages/ipykernel_launcher.py:11: SettingWithCopyWarning: \n",
            "A value is trying to be set on a copy of a slice from a DataFrame.\n",
            "Try using .loc[row_indexer,col_indexer] = value instead\n",
            "\n",
            "See the caveats in the documentation: https://pandas.pydata.org/pandas-docs/stable/user_guide/indexing.html#returning-a-view-versus-a-copy\n",
            "  # This is added back by InteractiveShellApp.init_path()\n",
            "/usr/local/lib/python3.7/dist-packages/ipykernel_launcher.py:12: SettingWithCopyWarning: \n",
            "A value is trying to be set on a copy of a slice from a DataFrame.\n",
            "Try using .loc[row_indexer,col_indexer] = value instead\n",
            "\n",
            "See the caveats in the documentation: https://pandas.pydata.org/pandas-docs/stable/user_guide/indexing.html#returning-a-view-versus-a-copy\n",
            "  if sys.path[0] == '':\n",
            "/usr/local/lib/python3.7/dist-packages/ipykernel_launcher.py:13: SettingWithCopyWarning: \n",
            "A value is trying to be set on a copy of a slice from a DataFrame.\n",
            "Try using .loc[row_indexer,col_indexer] = value instead\n",
            "\n",
            "See the caveats in the documentation: https://pandas.pydata.org/pandas-docs/stable/user_guide/indexing.html#returning-a-view-versus-a-copy\n",
            "  del sys.path[0]\n",
            "/usr/local/lib/python3.7/dist-packages/pandas/core/indexing.py:670: SettingWithCopyWarning: \n",
            "A value is trying to be set on a copy of a slice from a DataFrame\n",
            "\n",
            "See the caveats in the documentation: https://pandas.pydata.org/pandas-docs/stable/user_guide/indexing.html#returning-a-view-versus-a-copy\n",
            "  iloc._setitem_with_indexer(indexer, value)\n",
            "/usr/local/lib/python3.7/dist-packages/ipykernel_launcher.py:21: SettingWithCopyWarning: \n",
            "A value is trying to be set on a copy of a slice from a DataFrame\n",
            "\n",
            "See the caveats in the documentation: https://pandas.pydata.org/pandas-docs/stable/user_guide/indexing.html#returning-a-view-versus-a-copy\n",
            "/usr/local/lib/python3.7/dist-packages/ipykernel_launcher.py:19: SettingWithCopyWarning: \n",
            "A value is trying to be set on a copy of a slice from a DataFrame\n",
            "\n",
            "See the caveats in the documentation: https://pandas.pydata.org/pandas-docs/stable/user_guide/indexing.html#returning-a-view-versus-a-copy\n",
            "/usr/local/lib/python3.7/dist-packages/ipykernel_launcher.py:23: SettingWithCopyWarning: \n",
            "A value is trying to be set on a copy of a slice from a DataFrame\n",
            "\n",
            "See the caveats in the documentation: https://pandas.pydata.org/pandas-docs/stable/user_guide/indexing.html#returning-a-view-versus-a-copy\n",
            "/usr/local/lib/python3.7/dist-packages/ipykernel_launcher.py:30: SettingWithCopyWarning: \n",
            "A value is trying to be set on a copy of a slice from a DataFrame\n",
            "\n",
            "See the caveats in the documentation: https://pandas.pydata.org/pandas-docs/stable/user_guide/indexing.html#returning-a-view-versus-a-copy\n",
            "/usr/local/lib/python3.7/dist-packages/ipykernel_launcher.py:32: SettingWithCopyWarning: \n",
            "A value is trying to be set on a copy of a slice from a DataFrame\n",
            "\n",
            "See the caveats in the documentation: https://pandas.pydata.org/pandas-docs/stable/user_guide/indexing.html#returning-a-view-versus-a-copy\n",
            "/usr/local/lib/python3.7/dist-packages/ipykernel_launcher.py:36: SettingWithCopyWarning: \n",
            "A value is trying to be set on a copy of a slice from a DataFrame\n",
            "\n",
            "See the caveats in the documentation: https://pandas.pydata.org/pandas-docs/stable/user_guide/indexing.html#returning-a-view-versus-a-copy\n",
            "/usr/local/lib/python3.7/dist-packages/ipykernel_launcher.py:38: SettingWithCopyWarning: \n",
            "A value is trying to be set on a copy of a slice from a DataFrame\n",
            "\n",
            "See the caveats in the documentation: https://pandas.pydata.org/pandas-docs/stable/user_guide/indexing.html#returning-a-view-versus-a-copy\n",
            "/usr/local/lib/python3.7/dist-packages/ipykernel_launcher.py:34: SettingWithCopyWarning: \n",
            "A value is trying to be set on a copy of a slice from a DataFrame\n",
            "\n",
            "See the caveats in the documentation: https://pandas.pydata.org/pandas-docs/stable/user_guide/indexing.html#returning-a-view-versus-a-copy\n",
            "/usr/local/lib/python3.7/dist-packages/ipykernel_launcher.py:43: SettingWithCopyWarning: \n",
            "A value is trying to be set on a copy of a slice from a DataFrame.\n",
            "Try using .loc[row_indexer,col_indexer] = value instead\n",
            "\n",
            "See the caveats in the documentation: https://pandas.pydata.org/pandas-docs/stable/user_guide/indexing.html#returning-a-view-versus-a-copy\n",
            "/usr/local/lib/python3.7/dist-packages/ipykernel_launcher.py:47: SettingWithCopyWarning: \n",
            "A value is trying to be set on a copy of a slice from a DataFrame.\n",
            "Try using .loc[row_indexer,col_indexer] = value instead\n",
            "\n",
            "See the caveats in the documentation: https://pandas.pydata.org/pandas-docs/stable/user_guide/indexing.html#returning-a-view-versus-a-copy\n",
            "/usr/local/lib/python3.7/dist-packages/ipykernel_launcher.py:51: SettingWithCopyWarning: \n",
            "A value is trying to be set on a copy of a slice from a DataFrame\n",
            "\n",
            "See the caveats in the documentation: https://pandas.pydata.org/pandas-docs/stable/user_guide/indexing.html#returning-a-view-versus-a-copy\n",
            "/usr/local/lib/python3.7/dist-packages/ipykernel_launcher.py:53: SettingWithCopyWarning: \n",
            "A value is trying to be set on a copy of a slice from a DataFrame\n",
            "\n",
            "See the caveats in the documentation: https://pandas.pydata.org/pandas-docs/stable/user_guide/indexing.html#returning-a-view-versus-a-copy\n",
            "/usr/local/lib/python3.7/dist-packages/ipykernel_launcher.py:55: SettingWithCopyWarning: \n",
            "A value is trying to be set on a copy of a slice from a DataFrame.\n",
            "Try using .loc[row_indexer,col_indexer] = value instead\n",
            "\n",
            "See the caveats in the documentation: https://pandas.pydata.org/pandas-docs/stable/user_guide/indexing.html#returning-a-view-versus-a-copy\n",
            "/usr/local/lib/python3.7/dist-packages/ipykernel_launcher.py:57: SettingWithCopyWarning: \n",
            "A value is trying to be set on a copy of a slice from a DataFrame.\n",
            "Try using .loc[row_indexer,col_indexer] = value instead\n",
            "\n",
            "See the caveats in the documentation: https://pandas.pydata.org/pandas-docs/stable/user_guide/indexing.html#returning-a-view-versus-a-copy\n",
            "/usr/local/lib/python3.7/dist-packages/ipykernel_launcher.py:59: SettingWithCopyWarning: \n",
            "A value is trying to be set on a copy of a slice from a DataFrame\n",
            "\n",
            "See the caveats in the documentation: https://pandas.pydata.org/pandas-docs/stable/user_guide/indexing.html#returning-a-view-versus-a-copy\n"
          ],
          "name": "stderr"
        },
        {
          "output_type": "stream",
          "text": [
            "    time  SIZE  PRICE  ...  realized_spread_30m  price_impact_30m  illiquid_ratio\n",
            "0      0   NaN    NaN  ...                  NaN               NaN             NaN\n",
            "1      1   NaN    NaN  ...                  NaN               NaN             NaN\n",
            "2      2   NaN    NaN  ...                  NaN               NaN             NaN\n",
            "3      3   NaN    NaN  ...                  NaN               NaN             NaN\n",
            "4      4   NaN    NaN  ...                  NaN               NaN             NaN\n",
            "5      5   NaN    NaN  ...                  NaN               NaN             NaN\n",
            "6      6   NaN    NaN  ...                  NaN               NaN             NaN\n",
            "7      7   NaN    NaN  ...                  NaN               NaN             NaN\n",
            "8      8   NaN    NaN  ...                  NaN               NaN             NaN\n",
            "9      9   NaN    NaN  ...                  NaN               NaN             NaN\n",
            "10    10   NaN    NaN  ...                  NaN               NaN             NaN\n",
            "11    11   NaN    NaN  ...                  NaN               NaN             NaN\n",
            "12    12   NaN    NaN  ...                  NaN               NaN             NaN\n",
            "\n",
            "[13 rows x 9 columns]\n"
          ],
          "name": "stdout"
        },
        {
          "output_type": "stream",
          "text": [
            "/usr/local/lib/python3.7/dist-packages/ipykernel_launcher.py:11: UserWarning: Boolean Series key will be reindexed to match DataFrame index.\n",
            "  # This is added back by InteractiveShellApp.init_path()\n"
          ],
          "name": "stderr"
        },
        {
          "output_type": "stream",
          "text": [
            "Process completed for 2020-01-29 00:00:00\n"
          ],
          "name": "stdout"
        },
        {
          "output_type": "stream",
          "text": [
            "/usr/local/lib/python3.7/dist-packages/ipykernel_launcher.py:6: SettingWithCopyWarning: \n",
            "A value is trying to be set on a copy of a slice from a DataFrame.\n",
            "Try using .loc[row_indexer,col_indexer] = value instead\n",
            "\n",
            "See the caveats in the documentation: https://pandas.pydata.org/pandas-docs/stable/user_guide/indexing.html#returning-a-view-versus-a-copy\n",
            "  \n",
            "/usr/local/lib/python3.7/dist-packages/ipykernel_launcher.py:7: SettingWithCopyWarning: \n",
            "A value is trying to be set on a copy of a slice from a DataFrame.\n",
            "Try using .loc[row_indexer,col_indexer] = value instead\n",
            "\n",
            "See the caveats in the documentation: https://pandas.pydata.org/pandas-docs/stable/user_guide/indexing.html#returning-a-view-versus-a-copy\n",
            "  import sys\n",
            "/usr/local/lib/python3.7/dist-packages/ipykernel_launcher.py:10: SettingWithCopyWarning: \n",
            "A value is trying to be set on a copy of a slice from a DataFrame.\n",
            "Try using .loc[row_indexer,col_indexer] = value instead\n",
            "\n",
            "See the caveats in the documentation: https://pandas.pydata.org/pandas-docs/stable/user_guide/indexing.html#returning-a-view-versus-a-copy\n",
            "  # Remove the CWD from sys.path while we load stuff.\n",
            "/usr/local/lib/python3.7/dist-packages/ipykernel_launcher.py:11: SettingWithCopyWarning: \n",
            "A value is trying to be set on a copy of a slice from a DataFrame.\n",
            "Try using .loc[row_indexer,col_indexer] = value instead\n",
            "\n",
            "See the caveats in the documentation: https://pandas.pydata.org/pandas-docs/stable/user_guide/indexing.html#returning-a-view-versus-a-copy\n",
            "  # This is added back by InteractiveShellApp.init_path()\n",
            "/usr/local/lib/python3.7/dist-packages/ipykernel_launcher.py:12: SettingWithCopyWarning: \n",
            "A value is trying to be set on a copy of a slice from a DataFrame.\n",
            "Try using .loc[row_indexer,col_indexer] = value instead\n",
            "\n",
            "See the caveats in the documentation: https://pandas.pydata.org/pandas-docs/stable/user_guide/indexing.html#returning-a-view-versus-a-copy\n",
            "  if sys.path[0] == '':\n",
            "/usr/local/lib/python3.7/dist-packages/ipykernel_launcher.py:13: SettingWithCopyWarning: \n",
            "A value is trying to be set on a copy of a slice from a DataFrame.\n",
            "Try using .loc[row_indexer,col_indexer] = value instead\n",
            "\n",
            "See the caveats in the documentation: https://pandas.pydata.org/pandas-docs/stable/user_guide/indexing.html#returning-a-view-versus-a-copy\n",
            "  del sys.path[0]\n",
            "/usr/local/lib/python3.7/dist-packages/pandas/core/indexing.py:670: SettingWithCopyWarning: \n",
            "A value is trying to be set on a copy of a slice from a DataFrame\n",
            "\n",
            "See the caveats in the documentation: https://pandas.pydata.org/pandas-docs/stable/user_guide/indexing.html#returning-a-view-versus-a-copy\n",
            "  iloc._setitem_with_indexer(indexer, value)\n",
            "/usr/local/lib/python3.7/dist-packages/ipykernel_launcher.py:19: SettingWithCopyWarning: \n",
            "A value is trying to be set on a copy of a slice from a DataFrame\n",
            "\n",
            "See the caveats in the documentation: https://pandas.pydata.org/pandas-docs/stable/user_guide/indexing.html#returning-a-view-versus-a-copy\n",
            "/usr/local/lib/python3.7/dist-packages/ipykernel_launcher.py:23: SettingWithCopyWarning: \n",
            "A value is trying to be set on a copy of a slice from a DataFrame\n",
            "\n",
            "See the caveats in the documentation: https://pandas.pydata.org/pandas-docs/stable/user_guide/indexing.html#returning-a-view-versus-a-copy\n",
            "/usr/local/lib/python3.7/dist-packages/ipykernel_launcher.py:30: SettingWithCopyWarning: \n",
            "A value is trying to be set on a copy of a slice from a DataFrame\n",
            "\n",
            "See the caveats in the documentation: https://pandas.pydata.org/pandas-docs/stable/user_guide/indexing.html#returning-a-view-versus-a-copy\n",
            "/usr/local/lib/python3.7/dist-packages/ipykernel_launcher.py:32: SettingWithCopyWarning: \n",
            "A value is trying to be set on a copy of a slice from a DataFrame\n",
            "\n",
            "See the caveats in the documentation: https://pandas.pydata.org/pandas-docs/stable/user_guide/indexing.html#returning-a-view-versus-a-copy\n",
            "/usr/local/lib/python3.7/dist-packages/ipykernel_launcher.py:38: SettingWithCopyWarning: \n",
            "A value is trying to be set on a copy of a slice from a DataFrame\n",
            "\n",
            "See the caveats in the documentation: https://pandas.pydata.org/pandas-docs/stable/user_guide/indexing.html#returning-a-view-versus-a-copy\n",
            "/usr/local/lib/python3.7/dist-packages/ipykernel_launcher.py:34: SettingWithCopyWarning: \n",
            "A value is trying to be set on a copy of a slice from a DataFrame\n",
            "\n",
            "See the caveats in the documentation: https://pandas.pydata.org/pandas-docs/stable/user_guide/indexing.html#returning-a-view-versus-a-copy\n",
            "/usr/local/lib/python3.7/dist-packages/ipykernel_launcher.py:36: SettingWithCopyWarning: \n",
            "A value is trying to be set on a copy of a slice from a DataFrame\n",
            "\n",
            "See the caveats in the documentation: https://pandas.pydata.org/pandas-docs/stable/user_guide/indexing.html#returning-a-view-versus-a-copy\n",
            "/usr/local/lib/python3.7/dist-packages/ipykernel_launcher.py:43: SettingWithCopyWarning: \n",
            "A value is trying to be set on a copy of a slice from a DataFrame.\n",
            "Try using .loc[row_indexer,col_indexer] = value instead\n",
            "\n",
            "See the caveats in the documentation: https://pandas.pydata.org/pandas-docs/stable/user_guide/indexing.html#returning-a-view-versus-a-copy\n",
            "/usr/local/lib/python3.7/dist-packages/ipykernel_launcher.py:47: SettingWithCopyWarning: \n",
            "A value is trying to be set on a copy of a slice from a DataFrame.\n",
            "Try using .loc[row_indexer,col_indexer] = value instead\n",
            "\n",
            "See the caveats in the documentation: https://pandas.pydata.org/pandas-docs/stable/user_guide/indexing.html#returning-a-view-versus-a-copy\n",
            "/usr/local/lib/python3.7/dist-packages/ipykernel_launcher.py:51: SettingWithCopyWarning: \n",
            "A value is trying to be set on a copy of a slice from a DataFrame\n",
            "\n",
            "See the caveats in the documentation: https://pandas.pydata.org/pandas-docs/stable/user_guide/indexing.html#returning-a-view-versus-a-copy\n",
            "/usr/local/lib/python3.7/dist-packages/ipykernel_launcher.py:53: SettingWithCopyWarning: \n",
            "A value is trying to be set on a copy of a slice from a DataFrame\n",
            "\n",
            "See the caveats in the documentation: https://pandas.pydata.org/pandas-docs/stable/user_guide/indexing.html#returning-a-view-versus-a-copy\n",
            "/usr/local/lib/python3.7/dist-packages/ipykernel_launcher.py:55: SettingWithCopyWarning: \n",
            "A value is trying to be set on a copy of a slice from a DataFrame.\n",
            "Try using .loc[row_indexer,col_indexer] = value instead\n",
            "\n",
            "See the caveats in the documentation: https://pandas.pydata.org/pandas-docs/stable/user_guide/indexing.html#returning-a-view-versus-a-copy\n",
            "/usr/local/lib/python3.7/dist-packages/ipykernel_launcher.py:57: SettingWithCopyWarning: \n",
            "A value is trying to be set on a copy of a slice from a DataFrame.\n",
            "Try using .loc[row_indexer,col_indexer] = value instead\n",
            "\n",
            "See the caveats in the documentation: https://pandas.pydata.org/pandas-docs/stable/user_guide/indexing.html#returning-a-view-versus-a-copy\n",
            "/usr/local/lib/python3.7/dist-packages/ipykernel_launcher.py:59: SettingWithCopyWarning: \n",
            "A value is trying to be set on a copy of a slice from a DataFrame\n",
            "\n",
            "See the caveats in the documentation: https://pandas.pydata.org/pandas-docs/stable/user_guide/indexing.html#returning-a-view-versus-a-copy\n"
          ],
          "name": "stderr"
        },
        {
          "output_type": "stream",
          "text": [
            "    time  SIZE  PRICE  ...  realized_spread_30m  price_impact_30m  illiquid_ratio\n",
            "0      0   NaN    NaN  ...                  NaN               NaN             NaN\n",
            "1      1   NaN    NaN  ...                  NaN               NaN             NaN\n",
            "2      2   NaN    NaN  ...                  NaN               NaN             NaN\n",
            "3      3   NaN    NaN  ...                  NaN               NaN             NaN\n",
            "4      4   NaN    NaN  ...                  NaN               NaN             NaN\n",
            "5      5   NaN    NaN  ...                  NaN               NaN             NaN\n",
            "6      6   NaN    NaN  ...                  NaN               NaN             NaN\n",
            "7      7   NaN    NaN  ...                  NaN               NaN             NaN\n",
            "8      8   NaN    NaN  ...                  NaN               NaN             NaN\n",
            "9      9   NaN    NaN  ...                  NaN               NaN             NaN\n",
            "10    10   NaN    NaN  ...                  NaN               NaN             NaN\n",
            "11    11   NaN    NaN  ...                  NaN               NaN             NaN\n",
            "12    12   NaN    NaN  ...                  NaN               NaN             NaN\n",
            "\n",
            "[13 rows x 9 columns]\n"
          ],
          "name": "stdout"
        },
        {
          "output_type": "stream",
          "text": [
            "/usr/local/lib/python3.7/dist-packages/ipykernel_launcher.py:11: UserWarning: Boolean Series key will be reindexed to match DataFrame index.\n",
            "  # This is added back by InteractiveShellApp.init_path()\n"
          ],
          "name": "stderr"
        },
        {
          "output_type": "stream",
          "text": [
            "Process completed for 2020-01-30 00:00:00\n"
          ],
          "name": "stdout"
        },
        {
          "output_type": "stream",
          "text": [
            "/usr/local/lib/python3.7/dist-packages/ipykernel_launcher.py:6: SettingWithCopyWarning: \n",
            "A value is trying to be set on a copy of a slice from a DataFrame.\n",
            "Try using .loc[row_indexer,col_indexer] = value instead\n",
            "\n",
            "See the caveats in the documentation: https://pandas.pydata.org/pandas-docs/stable/user_guide/indexing.html#returning-a-view-versus-a-copy\n",
            "  \n",
            "/usr/local/lib/python3.7/dist-packages/ipykernel_launcher.py:7: SettingWithCopyWarning: \n",
            "A value is trying to be set on a copy of a slice from a DataFrame.\n",
            "Try using .loc[row_indexer,col_indexer] = value instead\n",
            "\n",
            "See the caveats in the documentation: https://pandas.pydata.org/pandas-docs/stable/user_guide/indexing.html#returning-a-view-versus-a-copy\n",
            "  import sys\n",
            "/usr/local/lib/python3.7/dist-packages/ipykernel_launcher.py:10: SettingWithCopyWarning: \n",
            "A value is trying to be set on a copy of a slice from a DataFrame.\n",
            "Try using .loc[row_indexer,col_indexer] = value instead\n",
            "\n",
            "See the caveats in the documentation: https://pandas.pydata.org/pandas-docs/stable/user_guide/indexing.html#returning-a-view-versus-a-copy\n",
            "  # Remove the CWD from sys.path while we load stuff.\n",
            "/usr/local/lib/python3.7/dist-packages/ipykernel_launcher.py:11: SettingWithCopyWarning: \n",
            "A value is trying to be set on a copy of a slice from a DataFrame.\n",
            "Try using .loc[row_indexer,col_indexer] = value instead\n",
            "\n",
            "See the caveats in the documentation: https://pandas.pydata.org/pandas-docs/stable/user_guide/indexing.html#returning-a-view-versus-a-copy\n",
            "  # This is added back by InteractiveShellApp.init_path()\n",
            "/usr/local/lib/python3.7/dist-packages/ipykernel_launcher.py:12: SettingWithCopyWarning: \n",
            "A value is trying to be set on a copy of a slice from a DataFrame.\n",
            "Try using .loc[row_indexer,col_indexer] = value instead\n",
            "\n",
            "See the caveats in the documentation: https://pandas.pydata.org/pandas-docs/stable/user_guide/indexing.html#returning-a-view-versus-a-copy\n",
            "  if sys.path[0] == '':\n",
            "/usr/local/lib/python3.7/dist-packages/ipykernel_launcher.py:13: SettingWithCopyWarning: \n",
            "A value is trying to be set on a copy of a slice from a DataFrame.\n",
            "Try using .loc[row_indexer,col_indexer] = value instead\n",
            "\n",
            "See the caveats in the documentation: https://pandas.pydata.org/pandas-docs/stable/user_guide/indexing.html#returning-a-view-versus-a-copy\n",
            "  del sys.path[0]\n",
            "/usr/local/lib/python3.7/dist-packages/pandas/core/indexing.py:670: SettingWithCopyWarning: \n",
            "A value is trying to be set on a copy of a slice from a DataFrame\n",
            "\n",
            "See the caveats in the documentation: https://pandas.pydata.org/pandas-docs/stable/user_guide/indexing.html#returning-a-view-versus-a-copy\n",
            "  iloc._setitem_with_indexer(indexer, value)\n",
            "/usr/local/lib/python3.7/dist-packages/ipykernel_launcher.py:21: SettingWithCopyWarning: \n",
            "A value is trying to be set on a copy of a slice from a DataFrame\n",
            "\n",
            "See the caveats in the documentation: https://pandas.pydata.org/pandas-docs/stable/user_guide/indexing.html#returning-a-view-versus-a-copy\n",
            "/usr/local/lib/python3.7/dist-packages/ipykernel_launcher.py:19: SettingWithCopyWarning: \n",
            "A value is trying to be set on a copy of a slice from a DataFrame\n",
            "\n",
            "See the caveats in the documentation: https://pandas.pydata.org/pandas-docs/stable/user_guide/indexing.html#returning-a-view-versus-a-copy\n",
            "/usr/local/lib/python3.7/dist-packages/ipykernel_launcher.py:23: SettingWithCopyWarning: \n",
            "A value is trying to be set on a copy of a slice from a DataFrame\n",
            "\n",
            "See the caveats in the documentation: https://pandas.pydata.org/pandas-docs/stable/user_guide/indexing.html#returning-a-view-versus-a-copy\n"
          ],
          "name": "stderr"
        }
      ]
    },
    {
      "cell_type": "markdown",
      "metadata": {
        "id": "ELcQ_-J53E0E"
      },
      "source": [
        "# TEST"
      ]
    },
    {
      "cell_type": "code",
      "metadata": {
        "colab": {
          "base_uri": "https://localhost:8080/"
        },
        "id": "eoNQ_54dvR0r",
        "outputId": "0dfd0430-df6b-4100-e965-ad540eecfd78"
      },
      "source": [
        "df = clean_df(get_data(date_ts, 'SRCL', '2018-08-03 00:00:00'))"
      ],
      "execution_count": null,
      "outputs": [
        {
          "output_type": "stream",
          "text": [
            "/usr/local/lib/python3.7/dist-packages/IPython/core/interactiveshell.py:2822: DtypeWarning: Columns (7) have mixed types.Specify dtype option on import or set low_memory=False.\n",
            "  if self.run_code(code, result):\n",
            "/usr/local/lib/python3.7/dist-packages/ipykernel_launcher.py:7: UserWarning: Boolean Series key will be reindexed to match DataFrame index.\n",
            "  import sys\n",
            "/usr/local/lib/python3.7/dist-packages/IPython/core/interactiveshell.py:2822: DtypeWarning: Columns (7) have mixed types.Specify dtype option on import or set low_memory=False.\n",
            "  if self.run_code(code, result):\n",
            "/usr/local/lib/python3.7/dist-packages/ipykernel_launcher.py:7: UserWarning: Boolean Series key will be reindexed to match DataFrame index.\n",
            "  import sys\n"
          ],
          "name": "stderr"
        }
      ]
    },
    {
      "cell_type": "code",
      "metadata": {
        "id": "C01rwEGiv4xP"
      },
      "source": [
        "trade_df = get_trade(date_ts, 'SRCL', '2018-08-03 00:00:00')"
      ],
      "execution_count": null,
      "outputs": []
    },
    {
      "cell_type": "code",
      "metadata": {
        "id": "F1WWlAwZv0Vb"
      },
      "source": [
        "cal_vars(df[df.DATE=='2018-08-07'], trade_df[trade_df.DATE=='2018-08-07'])"
      ],
      "execution_count": null,
      "outputs": []
    },
    {
      "cell_type": "code",
      "metadata": {
        "colab": {
          "base_uri": "https://localhost:8080/",
          "height": 419
        },
        "id": "M4K4Oxs5q-C8",
        "outputId": "87d06828-193f-470c-be9d-caa2b73f16b5"
      },
      "source": [
        "trade_df"
      ],
      "execution_count": null,
      "outputs": [
        {
          "output_type": "execute_result",
          "data": {
            "text/html": [
              "<div>\n",
              "<style scoped>\n",
              "    .dataframe tbody tr th:only-of-type {\n",
              "        vertical-align: middle;\n",
              "    }\n",
              "\n",
              "    .dataframe tbody tr th {\n",
              "        vertical-align: top;\n",
              "    }\n",
              "\n",
              "    .dataframe thead th {\n",
              "        text-align: right;\n",
              "    }\n",
              "</style>\n",
              "<table border=\"1\" class=\"dataframe\">\n",
              "  <thead>\n",
              "    <tr style=\"text-align: right;\">\n",
              "      <th></th>\n",
              "      <th>DATE</th>\n",
              "      <th>TIME_M</th>\n",
              "      <th>SYM_ROOT</th>\n",
              "      <th>SIZE</th>\n",
              "      <th>PRICE</th>\n",
              "    </tr>\n",
              "  </thead>\n",
              "  <tbody>\n",
              "    <tr>\n",
              "      <th>0</th>\n",
              "      <td>2018-07-05</td>\n",
              "      <td>0 days 09:30:00.175729634</td>\n",
              "      <td>SRCL</td>\n",
              "      <td>100</td>\n",
              "      <td>63.085</td>\n",
              "    </tr>\n",
              "    <tr>\n",
              "      <th>1</th>\n",
              "      <td>2018-07-05</td>\n",
              "      <td>0 days 09:30:00.341031190</td>\n",
              "      <td>SRCL</td>\n",
              "      <td>35</td>\n",
              "      <td>64.690</td>\n",
              "    </tr>\n",
              "    <tr>\n",
              "      <th>2</th>\n",
              "      <td>2018-07-05</td>\n",
              "      <td>0 days 09:30:00.853526799</td>\n",
              "      <td>SRCL</td>\n",
              "      <td>25</td>\n",
              "      <td>64.690</td>\n",
              "    </tr>\n",
              "    <tr>\n",
              "      <th>3</th>\n",
              "      <td>2018-07-05</td>\n",
              "      <td>0 days 09:30:01.113417668</td>\n",
              "      <td>SRCL</td>\n",
              "      <td>4933</td>\n",
              "      <td>65.210</td>\n",
              "    </tr>\n",
              "    <tr>\n",
              "      <th>4</th>\n",
              "      <td>2018-07-05</td>\n",
              "      <td>0 days 09:30:01.113427845</td>\n",
              "      <td>SRCL</td>\n",
              "      <td>4933</td>\n",
              "      <td>65.210</td>\n",
              "    </tr>\n",
              "    <tr>\n",
              "      <th>...</th>\n",
              "      <td>...</td>\n",
              "      <td>...</td>\n",
              "      <td>...</td>\n",
              "      <td>...</td>\n",
              "      <td>...</td>\n",
              "    </tr>\n",
              "    <tr>\n",
              "      <th>362140</th>\n",
              "      <td>2018-09-04</td>\n",
              "      <td>0 days 15:59:01.684614188</td>\n",
              "      <td>SRCL</td>\n",
              "      <td>43</td>\n",
              "      <td>45.530</td>\n",
              "    </tr>\n",
              "    <tr>\n",
              "      <th>362141</th>\n",
              "      <td>2018-09-04</td>\n",
              "      <td>0 days 15:59:01.740168055</td>\n",
              "      <td>SRCL</td>\n",
              "      <td>43</td>\n",
              "      <td>45.530</td>\n",
              "    </tr>\n",
              "    <tr>\n",
              "      <th>362142</th>\n",
              "      <td>2018-09-04</td>\n",
              "      <td>0 days 15:59:07.727692503</td>\n",
              "      <td>SRCL</td>\n",
              "      <td>136</td>\n",
              "      <td>45.540</td>\n",
              "    </tr>\n",
              "    <tr>\n",
              "      <th>362143</th>\n",
              "      <td>2018-09-04</td>\n",
              "      <td>0 days 15:59:07.945632512</td>\n",
              "      <td>SRCL</td>\n",
              "      <td>200</td>\n",
              "      <td>45.540</td>\n",
              "    </tr>\n",
              "    <tr>\n",
              "      <th>362144</th>\n",
              "      <td>2018-09-04</td>\n",
              "      <td>0 days 15:59:14.333062880</td>\n",
              "      <td>SRCL</td>\n",
              "      <td>10</td>\n",
              "      <td>45.530</td>\n",
              "    </tr>\n",
              "  </tbody>\n",
              "</table>\n",
              "<p>362145 rows × 5 columns</p>\n",
              "</div>"
            ],
            "text/plain": [
              "             DATE                    TIME_M SYM_ROOT  SIZE   PRICE\n",
              "0      2018-07-05 0 days 09:30:00.175729634     SRCL   100  63.085\n",
              "1      2018-07-05 0 days 09:30:00.341031190     SRCL    35  64.690\n",
              "2      2018-07-05 0 days 09:30:00.853526799     SRCL    25  64.690\n",
              "3      2018-07-05 0 days 09:30:01.113417668     SRCL  4933  65.210\n",
              "4      2018-07-05 0 days 09:30:01.113427845     SRCL  4933  65.210\n",
              "...           ...                       ...      ...   ...     ...\n",
              "362140 2018-09-04 0 days 15:59:01.684614188     SRCL    43  45.530\n",
              "362141 2018-09-04 0 days 15:59:01.740168055     SRCL    43  45.530\n",
              "362142 2018-09-04 0 days 15:59:07.727692503     SRCL   136  45.540\n",
              "362143 2018-09-04 0 days 15:59:07.945632512     SRCL   200  45.540\n",
              "362144 2018-09-04 0 days 15:59:14.333062880     SRCL    10  45.530\n",
              "\n",
              "[362145 rows x 5 columns]"
            ]
          },
          "metadata": {
            "tags": []
          },
          "execution_count": 16
        }
      ]
    },
    {
      "cell_type": "code",
      "metadata": {
        "colab": {
          "base_uri": "https://localhost:8080/"
        },
        "id": "z7l_zahFxRL7",
        "outputId": "0f0f8a67-8df5-436c-99c5-f28a1616ffff"
      },
      "source": [
        "(df.ASK+df.BID)/2"
      ],
      "execution_count": null,
      "outputs": [
        {
          "output_type": "execute_result",
          "data": {
            "text/plain": [
              "0          63.315\n",
              "1          63.630\n",
              "2          63.085\n",
              "3          63.495\n",
              "4          62.270\n",
              "            ...  \n",
              "4900454    45.420\n",
              "4900455    45.570\n",
              "4900456    45.420\n",
              "4900457    45.570\n",
              "4900458    45.570\n",
              "Length: 4900459, dtype: float64"
            ]
          },
          "metadata": {
            "tags": []
          },
          "execution_count": 15
        }
      ]
    },
    {
      "cell_type": "code",
      "metadata": {
        "colab": {
          "base_uri": "https://localhost:8080/",
          "height": 419
        },
        "id": "u8hdPXAExiK_",
        "outputId": "2f8d6948-beec-4f74-9b29-778b14680382"
      },
      "source": [
        "df"
      ],
      "execution_count": null,
      "outputs": [
        {
          "output_type": "execute_result",
          "data": {
            "text/html": [
              "<div>\n",
              "<style scoped>\n",
              "    .dataframe tbody tr th:only-of-type {\n",
              "        vertical-align: middle;\n",
              "    }\n",
              "\n",
              "    .dataframe tbody tr th {\n",
              "        vertical-align: top;\n",
              "    }\n",
              "\n",
              "    .dataframe thead th {\n",
              "        text-align: right;\n",
              "    }\n",
              "</style>\n",
              "<table border=\"1\" class=\"dataframe\">\n",
              "  <thead>\n",
              "    <tr style=\"text-align: right;\">\n",
              "      <th></th>\n",
              "      <th>DATE</th>\n",
              "      <th>TIME_M</th>\n",
              "      <th>BID</th>\n",
              "      <th>BIDSIZ</th>\n",
              "      <th>ASK</th>\n",
              "      <th>ASKSIZ</th>\n",
              "      <th>SYM_ROOT</th>\n",
              "    </tr>\n",
              "  </thead>\n",
              "  <tbody>\n",
              "    <tr>\n",
              "      <th>0</th>\n",
              "      <td>2018-07-05</td>\n",
              "      <td>0 days 09:30:00.033688152</td>\n",
              "      <td>58.99</td>\n",
              "      <td>1</td>\n",
              "      <td>67.64</td>\n",
              "      <td>1</td>\n",
              "      <td>SRCL</td>\n",
              "    </tr>\n",
              "    <tr>\n",
              "      <th>1</th>\n",
              "      <td>2018-07-05</td>\n",
              "      <td>0 days 09:30:00.116973537</td>\n",
              "      <td>60.40</td>\n",
              "      <td>2</td>\n",
              "      <td>66.86</td>\n",
              "      <td>1</td>\n",
              "      <td>SRCL</td>\n",
              "    </tr>\n",
              "    <tr>\n",
              "      <th>2</th>\n",
              "      <td>2018-07-05</td>\n",
              "      <td>0 days 09:30:00.127899530</td>\n",
              "      <td>60.50</td>\n",
              "      <td>1</td>\n",
              "      <td>65.67</td>\n",
              "      <td>2</td>\n",
              "      <td>SRCL</td>\n",
              "    </tr>\n",
              "    <tr>\n",
              "      <th>3</th>\n",
              "      <td>2018-07-05</td>\n",
              "      <td>0 days 09:30:00.128069779</td>\n",
              "      <td>50.82</td>\n",
              "      <td>1</td>\n",
              "      <td>76.17</td>\n",
              "      <td>1</td>\n",
              "      <td>SRCL</td>\n",
              "    </tr>\n",
              "    <tr>\n",
              "      <th>4</th>\n",
              "      <td>2018-07-05</td>\n",
              "      <td>0 days 09:30:00.230943010</td>\n",
              "      <td>58.08</td>\n",
              "      <td>2</td>\n",
              "      <td>66.46</td>\n",
              "      <td>1</td>\n",
              "      <td>SRCL</td>\n",
              "    </tr>\n",
              "    <tr>\n",
              "      <th>...</th>\n",
              "      <td>...</td>\n",
              "      <td>...</td>\n",
              "      <td>...</td>\n",
              "      <td>...</td>\n",
              "      <td>...</td>\n",
              "      <td>...</td>\n",
              "      <td>...</td>\n",
              "    </tr>\n",
              "    <tr>\n",
              "      <th>4900454</th>\n",
              "      <td>2018-09-04</td>\n",
              "      <td>0 days 15:59:58.038377457</td>\n",
              "      <td>45.22</td>\n",
              "      <td>1</td>\n",
              "      <td>45.62</td>\n",
              "      <td>11</td>\n",
              "      <td>SRCL</td>\n",
              "    </tr>\n",
              "    <tr>\n",
              "      <th>4900455</th>\n",
              "      <td>2018-09-04</td>\n",
              "      <td>0 days 15:59:58.038844487</td>\n",
              "      <td>45.52</td>\n",
              "      <td>10</td>\n",
              "      <td>45.62</td>\n",
              "      <td>11</td>\n",
              "      <td>SRCL</td>\n",
              "    </tr>\n",
              "    <tr>\n",
              "      <th>4900456</th>\n",
              "      <td>2018-09-04</td>\n",
              "      <td>0 days 15:59:58.084629704</td>\n",
              "      <td>45.22</td>\n",
              "      <td>1</td>\n",
              "      <td>45.62</td>\n",
              "      <td>1</td>\n",
              "      <td>SRCL</td>\n",
              "    </tr>\n",
              "    <tr>\n",
              "      <th>4900457</th>\n",
              "      <td>2018-09-04</td>\n",
              "      <td>0 days 15:59:58.088133506</td>\n",
              "      <td>45.52</td>\n",
              "      <td>7</td>\n",
              "      <td>45.62</td>\n",
              "      <td>1</td>\n",
              "      <td>SRCL</td>\n",
              "    </tr>\n",
              "    <tr>\n",
              "      <th>4900458</th>\n",
              "      <td>2018-09-04</td>\n",
              "      <td>0 days 15:59:58.512955784</td>\n",
              "      <td>45.52</td>\n",
              "      <td>10</td>\n",
              "      <td>45.62</td>\n",
              "      <td>14</td>\n",
              "      <td>SRCL</td>\n",
              "    </tr>\n",
              "  </tbody>\n",
              "</table>\n",
              "<p>4900459 rows × 7 columns</p>\n",
              "</div>"
            ],
            "text/plain": [
              "              DATE                    TIME_M    BID  ...    ASK  ASKSIZ  SYM_ROOT\n",
              "0       2018-07-05 0 days 09:30:00.033688152  58.99  ...  67.64       1      SRCL\n",
              "1       2018-07-05 0 days 09:30:00.116973537  60.40  ...  66.86       1      SRCL\n",
              "2       2018-07-05 0 days 09:30:00.127899530  60.50  ...  65.67       2      SRCL\n",
              "3       2018-07-05 0 days 09:30:00.128069779  50.82  ...  76.17       1      SRCL\n",
              "4       2018-07-05 0 days 09:30:00.230943010  58.08  ...  66.46       1      SRCL\n",
              "...            ...                       ...    ...  ...    ...     ...       ...\n",
              "4900454 2018-09-04 0 days 15:59:58.038377457  45.22  ...  45.62      11      SRCL\n",
              "4900455 2018-09-04 0 days 15:59:58.038844487  45.52  ...  45.62      11      SRCL\n",
              "4900456 2018-09-04 0 days 15:59:58.084629704  45.22  ...  45.62       1      SRCL\n",
              "4900457 2018-09-04 0 days 15:59:58.088133506  45.52  ...  45.62       1      SRCL\n",
              "4900458 2018-09-04 0 days 15:59:58.512955784  45.52  ...  45.62      14      SRCL\n",
              "\n",
              "[4900459 rows x 7 columns]"
            ]
          },
          "metadata": {
            "tags": []
          },
          "execution_count": 18
        }
      ]
    },
    {
      "cell_type": "code",
      "metadata": {
        "colab": {
          "base_uri": "https://localhost:8080/"
        },
        "id": "dmaAbJuMwY5_",
        "outputId": "1291c06c-5623-419d-d3f7-76b3ff095b09"
      },
      "source": [
        "df['midquote'] = (df.ASK+df.BID)/2\n",
        "df['qouted_spread'] = (df.ASK-df.BID)/(df['midquote'])\n",
        "i = 0\n",
        "trade_df['qouted_spread'] = np.nan\n",
        "trade_df['effective_spread'] = np.nan\n",
        "trade_df['midquote'] = np.nan\n",
        "trade_df['d'] = np.nan\n",
        "\n",
        "temp = df[df.DATE == trade_df.DATE.iloc[i]]\n",
        "mask2 = trade_df.TIME_M.iloc[i] >= temp.TIME_M \n",
        "try:\n",
        "  trade_df['midquote'].iloc[i] = temp[mask2]['midquote'].iloc[-1]\n",
        "except:\n",
        "  trade_df['midquote'].iloc[i] = None\n",
        "try:\n",
        "  trade_df['qouted_spread'].iloc[i] = np.abs(temp[mask2]['qouted_spread'].iloc[0])\n",
        "except:\n",
        "  pass"
      ],
      "execution_count": null,
      "outputs": [
        {
          "output_type": "stream",
          "text": [
            "/usr/local/lib/python3.7/dist-packages/pandas/core/indexing.py:670: SettingWithCopyWarning: \n",
            "A value is trying to be set on a copy of a slice from a DataFrame\n",
            "\n",
            "See the caveats in the documentation: https://pandas.pydata.org/pandas-docs/stable/user_guide/indexing.html#returning-a-view-versus-a-copy\n",
            "  iloc._setitem_with_indexer(indexer, value)\n"
          ],
          "name": "stderr"
        }
      ]
    },
    {
      "cell_type": "code",
      "metadata": {
        "colab": {
          "base_uri": "https://localhost:8080/",
          "height": 419
        },
        "id": "8u5ob249xf0p",
        "outputId": "8d527ea4-5f6f-4d88-9a54-8c1a92c9e0ff"
      },
      "source": [
        "trade_df"
      ],
      "execution_count": null,
      "outputs": [
        {
          "output_type": "execute_result",
          "data": {
            "text/html": [
              "<div>\n",
              "<style scoped>\n",
              "    .dataframe tbody tr th:only-of-type {\n",
              "        vertical-align: middle;\n",
              "    }\n",
              "\n",
              "    .dataframe tbody tr th {\n",
              "        vertical-align: top;\n",
              "    }\n",
              "\n",
              "    .dataframe thead th {\n",
              "        text-align: right;\n",
              "    }\n",
              "</style>\n",
              "<table border=\"1\" class=\"dataframe\">\n",
              "  <thead>\n",
              "    <tr style=\"text-align: right;\">\n",
              "      <th></th>\n",
              "      <th>DATE</th>\n",
              "      <th>TIME_M</th>\n",
              "      <th>SYM_ROOT</th>\n",
              "      <th>SIZE</th>\n",
              "      <th>PRICE</th>\n",
              "      <th>qouted_spread</th>\n",
              "      <th>effective_spread</th>\n",
              "      <th>midquote</th>\n",
              "      <th>d</th>\n",
              "    </tr>\n",
              "  </thead>\n",
              "  <tbody>\n",
              "    <tr>\n",
              "      <th>0</th>\n",
              "      <td>2018-07-05</td>\n",
              "      <td>0 days 09:30:00.175729634</td>\n",
              "      <td>SRCL</td>\n",
              "      <td>100</td>\n",
              "      <td>63.085</td>\n",
              "      <td>0.136618</td>\n",
              "      <td>NaN</td>\n",
              "      <td>63.495</td>\n",
              "      <td>NaN</td>\n",
              "    </tr>\n",
              "    <tr>\n",
              "      <th>1</th>\n",
              "      <td>2018-07-05</td>\n",
              "      <td>0 days 09:30:00.341031190</td>\n",
              "      <td>SRCL</td>\n",
              "      <td>35</td>\n",
              "      <td>64.690</td>\n",
              "      <td>NaN</td>\n",
              "      <td>NaN</td>\n",
              "      <td>NaN</td>\n",
              "      <td>NaN</td>\n",
              "    </tr>\n",
              "    <tr>\n",
              "      <th>2</th>\n",
              "      <td>2018-07-05</td>\n",
              "      <td>0 days 09:30:00.853526799</td>\n",
              "      <td>SRCL</td>\n",
              "      <td>25</td>\n",
              "      <td>64.690</td>\n",
              "      <td>NaN</td>\n",
              "      <td>NaN</td>\n",
              "      <td>NaN</td>\n",
              "      <td>NaN</td>\n",
              "    </tr>\n",
              "    <tr>\n",
              "      <th>3</th>\n",
              "      <td>2018-07-05</td>\n",
              "      <td>0 days 09:30:01.113417668</td>\n",
              "      <td>SRCL</td>\n",
              "      <td>4933</td>\n",
              "      <td>65.210</td>\n",
              "      <td>NaN</td>\n",
              "      <td>NaN</td>\n",
              "      <td>NaN</td>\n",
              "      <td>NaN</td>\n",
              "    </tr>\n",
              "    <tr>\n",
              "      <th>4</th>\n",
              "      <td>2018-07-05</td>\n",
              "      <td>0 days 09:30:01.113427845</td>\n",
              "      <td>SRCL</td>\n",
              "      <td>4933</td>\n",
              "      <td>65.210</td>\n",
              "      <td>NaN</td>\n",
              "      <td>NaN</td>\n",
              "      <td>NaN</td>\n",
              "      <td>NaN</td>\n",
              "    </tr>\n",
              "    <tr>\n",
              "      <th>...</th>\n",
              "      <td>...</td>\n",
              "      <td>...</td>\n",
              "      <td>...</td>\n",
              "      <td>...</td>\n",
              "      <td>...</td>\n",
              "      <td>...</td>\n",
              "      <td>...</td>\n",
              "      <td>...</td>\n",
              "      <td>...</td>\n",
              "    </tr>\n",
              "    <tr>\n",
              "      <th>362140</th>\n",
              "      <td>2018-09-04</td>\n",
              "      <td>0 days 15:59:01.684614188</td>\n",
              "      <td>SRCL</td>\n",
              "      <td>43</td>\n",
              "      <td>45.530</td>\n",
              "      <td>NaN</td>\n",
              "      <td>NaN</td>\n",
              "      <td>NaN</td>\n",
              "      <td>NaN</td>\n",
              "    </tr>\n",
              "    <tr>\n",
              "      <th>362141</th>\n",
              "      <td>2018-09-04</td>\n",
              "      <td>0 days 15:59:01.740168055</td>\n",
              "      <td>SRCL</td>\n",
              "      <td>43</td>\n",
              "      <td>45.530</td>\n",
              "      <td>NaN</td>\n",
              "      <td>NaN</td>\n",
              "      <td>NaN</td>\n",
              "      <td>NaN</td>\n",
              "    </tr>\n",
              "    <tr>\n",
              "      <th>362142</th>\n",
              "      <td>2018-09-04</td>\n",
              "      <td>0 days 15:59:07.727692503</td>\n",
              "      <td>SRCL</td>\n",
              "      <td>136</td>\n",
              "      <td>45.540</td>\n",
              "      <td>NaN</td>\n",
              "      <td>NaN</td>\n",
              "      <td>NaN</td>\n",
              "      <td>NaN</td>\n",
              "    </tr>\n",
              "    <tr>\n",
              "      <th>362143</th>\n",
              "      <td>2018-09-04</td>\n",
              "      <td>0 days 15:59:07.945632512</td>\n",
              "      <td>SRCL</td>\n",
              "      <td>200</td>\n",
              "      <td>45.540</td>\n",
              "      <td>NaN</td>\n",
              "      <td>NaN</td>\n",
              "      <td>NaN</td>\n",
              "      <td>NaN</td>\n",
              "    </tr>\n",
              "    <tr>\n",
              "      <th>362144</th>\n",
              "      <td>2018-09-04</td>\n",
              "      <td>0 days 15:59:14.333062880</td>\n",
              "      <td>SRCL</td>\n",
              "      <td>10</td>\n",
              "      <td>45.530</td>\n",
              "      <td>NaN</td>\n",
              "      <td>NaN</td>\n",
              "      <td>NaN</td>\n",
              "      <td>NaN</td>\n",
              "    </tr>\n",
              "  </tbody>\n",
              "</table>\n",
              "<p>362145 rows × 9 columns</p>\n",
              "</div>"
            ],
            "text/plain": [
              "             DATE                    TIME_M  ... midquote   d\n",
              "0      2018-07-05 0 days 09:30:00.175729634  ...   63.495 NaN\n",
              "1      2018-07-05 0 days 09:30:00.341031190  ...      NaN NaN\n",
              "2      2018-07-05 0 days 09:30:00.853526799  ...      NaN NaN\n",
              "3      2018-07-05 0 days 09:30:01.113417668  ...      NaN NaN\n",
              "4      2018-07-05 0 days 09:30:01.113427845  ...      NaN NaN\n",
              "...           ...                       ...  ...      ...  ..\n",
              "362140 2018-09-04 0 days 15:59:01.684614188  ...      NaN NaN\n",
              "362141 2018-09-04 0 days 15:59:01.740168055  ...      NaN NaN\n",
              "362142 2018-09-04 0 days 15:59:07.727692503  ...      NaN NaN\n",
              "362143 2018-09-04 0 days 15:59:07.945632512  ...      NaN NaN\n",
              "362144 2018-09-04 0 days 15:59:14.333062880  ...      NaN NaN\n",
              "\n",
              "[362145 rows x 9 columns]"
            ]
          },
          "metadata": {
            "tags": []
          },
          "execution_count": 39
        }
      ]
    },
    {
      "cell_type": "code",
      "metadata": {
        "colab": {
          "base_uri": "https://localhost:8080/",
          "height": 173
        },
        "id": "AmMliteCwv4p",
        "outputId": "698885ed-3cd2-4640-8c6e-75488c0639f4"
      },
      "source": [
        "mask2 = (temp.TIME_M  <= trade_df.TIME_M.iloc[i])\n",
        "temp[mask2]"
      ],
      "execution_count": null,
      "outputs": [
        {
          "output_type": "execute_result",
          "data": {
            "text/html": [
              "<div>\n",
              "<style scoped>\n",
              "    .dataframe tbody tr th:only-of-type {\n",
              "        vertical-align: middle;\n",
              "    }\n",
              "\n",
              "    .dataframe tbody tr th {\n",
              "        vertical-align: top;\n",
              "    }\n",
              "\n",
              "    .dataframe thead th {\n",
              "        text-align: right;\n",
              "    }\n",
              "</style>\n",
              "<table border=\"1\" class=\"dataframe\">\n",
              "  <thead>\n",
              "    <tr style=\"text-align: right;\">\n",
              "      <th></th>\n",
              "      <th>DATE</th>\n",
              "      <th>TIME_M</th>\n",
              "      <th>BID</th>\n",
              "      <th>BIDSIZ</th>\n",
              "      <th>ASK</th>\n",
              "      <th>ASKSIZ</th>\n",
              "      <th>SYM_ROOT</th>\n",
              "      <th>midquote</th>\n",
              "      <th>qouted_spread</th>\n",
              "    </tr>\n",
              "  </thead>\n",
              "  <tbody>\n",
              "    <tr>\n",
              "      <th>0</th>\n",
              "      <td>2018-07-05</td>\n",
              "      <td>0 days 09:30:00.033688152</td>\n",
              "      <td>58.99</td>\n",
              "      <td>1</td>\n",
              "      <td>67.64</td>\n",
              "      <td>1</td>\n",
              "      <td>SRCL</td>\n",
              "      <td>63.315</td>\n",
              "      <td>0.136618</td>\n",
              "    </tr>\n",
              "    <tr>\n",
              "      <th>1</th>\n",
              "      <td>2018-07-05</td>\n",
              "      <td>0 days 09:30:00.116973537</td>\n",
              "      <td>60.40</td>\n",
              "      <td>2</td>\n",
              "      <td>66.86</td>\n",
              "      <td>1</td>\n",
              "      <td>SRCL</td>\n",
              "      <td>63.630</td>\n",
              "      <td>0.101524</td>\n",
              "    </tr>\n",
              "    <tr>\n",
              "      <th>2</th>\n",
              "      <td>2018-07-05</td>\n",
              "      <td>0 days 09:30:00.127899530</td>\n",
              "      <td>60.50</td>\n",
              "      <td>1</td>\n",
              "      <td>65.67</td>\n",
              "      <td>2</td>\n",
              "      <td>SRCL</td>\n",
              "      <td>63.085</td>\n",
              "      <td>0.081953</td>\n",
              "    </tr>\n",
              "    <tr>\n",
              "      <th>3</th>\n",
              "      <td>2018-07-05</td>\n",
              "      <td>0 days 09:30:00.128069779</td>\n",
              "      <td>50.82</td>\n",
              "      <td>1</td>\n",
              "      <td>76.17</td>\n",
              "      <td>1</td>\n",
              "      <td>SRCL</td>\n",
              "      <td>63.495</td>\n",
              "      <td>0.399244</td>\n",
              "    </tr>\n",
              "  </tbody>\n",
              "</table>\n",
              "</div>"
            ],
            "text/plain": [
              "        DATE                    TIME_M    BID  ...  SYM_ROOT  midquote  qouted_spread\n",
              "0 2018-07-05 0 days 09:30:00.033688152  58.99  ...      SRCL    63.315       0.136618\n",
              "1 2018-07-05 0 days 09:30:00.116973537  60.40  ...      SRCL    63.630       0.101524\n",
              "2 2018-07-05 0 days 09:30:00.127899530  60.50  ...      SRCL    63.085       0.081953\n",
              "3 2018-07-05 0 days 09:30:00.128069779  50.82  ...      SRCL    63.495       0.399244\n",
              "\n",
              "[4 rows x 9 columns]"
            ]
          },
          "metadata": {
            "tags": []
          },
          "execution_count": 44
        }
      ]
    },
    {
      "cell_type": "code",
      "metadata": {
        "colab": {
          "base_uri": "https://localhost:8080/",
          "height": 419
        },
        "id": "Tb4ORvR9xuVB",
        "outputId": "f231cc24-31bd-4221-dc75-60f1a9f193c4"
      },
      "source": [
        "trade_df[trade_df.DATE=='2018-08-07']"
      ],
      "execution_count": null,
      "outputs": [
        {
          "output_type": "execute_result",
          "data": {
            "text/html": [
              "<div>\n",
              "<style scoped>\n",
              "    .dataframe tbody tr th:only-of-type {\n",
              "        vertical-align: middle;\n",
              "    }\n",
              "\n",
              "    .dataframe tbody tr th {\n",
              "        vertical-align: top;\n",
              "    }\n",
              "\n",
              "    .dataframe thead th {\n",
              "        text-align: right;\n",
              "    }\n",
              "</style>\n",
              "<table border=\"1\" class=\"dataframe\">\n",
              "  <thead>\n",
              "    <tr style=\"text-align: right;\">\n",
              "      <th></th>\n",
              "      <th>DATE</th>\n",
              "      <th>TIME_M</th>\n",
              "      <th>SYM_ROOT</th>\n",
              "      <th>SIZE</th>\n",
              "      <th>PRICE</th>\n",
              "    </tr>\n",
              "  </thead>\n",
              "  <tbody>\n",
              "    <tr>\n",
              "      <th>229474</th>\n",
              "      <td>2018-08-07</td>\n",
              "      <td>0 days 09:30:00.357994787</td>\n",
              "      <td>SRCL</td>\n",
              "      <td>6161</td>\n",
              "      <td>62.110</td>\n",
              "    </tr>\n",
              "    <tr>\n",
              "      <th>229475</th>\n",
              "      <td>2018-08-07</td>\n",
              "      <td>0 days 09:30:00.358112111</td>\n",
              "      <td>SRCL</td>\n",
              "      <td>6161</td>\n",
              "      <td>62.110</td>\n",
              "    </tr>\n",
              "    <tr>\n",
              "      <th>229476</th>\n",
              "      <td>2018-08-07</td>\n",
              "      <td>0 days 09:30:00.387758175</td>\n",
              "      <td>SRCL</td>\n",
              "      <td>45</td>\n",
              "      <td>62.130</td>\n",
              "    </tr>\n",
              "    <tr>\n",
              "      <th>229477</th>\n",
              "      <td>2018-08-07</td>\n",
              "      <td>0 days 09:30:00.688947801</td>\n",
              "      <td>SRCL</td>\n",
              "      <td>100</td>\n",
              "      <td>62.110</td>\n",
              "    </tr>\n",
              "    <tr>\n",
              "      <th>229478</th>\n",
              "      <td>2018-08-07</td>\n",
              "      <td>0 days 09:30:01.894145495</td>\n",
              "      <td>SRCL</td>\n",
              "      <td>100</td>\n",
              "      <td>62.100</td>\n",
              "    </tr>\n",
              "    <tr>\n",
              "      <th>...</th>\n",
              "      <td>...</td>\n",
              "      <td>...</td>\n",
              "      <td>...</td>\n",
              "      <td>...</td>\n",
              "      <td>...</td>\n",
              "    </tr>\n",
              "    <tr>\n",
              "      <th>237534</th>\n",
              "      <td>2018-08-07</td>\n",
              "      <td>0 days 15:59:23.691246748</td>\n",
              "      <td>SRCL</td>\n",
              "      <td>1</td>\n",
              "      <td>47.055</td>\n",
              "    </tr>\n",
              "    <tr>\n",
              "      <th>237535</th>\n",
              "      <td>2018-08-07</td>\n",
              "      <td>0 days 15:59:23.691249927</td>\n",
              "      <td>SRCL</td>\n",
              "      <td>1</td>\n",
              "      <td>47.055</td>\n",
              "    </tr>\n",
              "    <tr>\n",
              "      <th>237536</th>\n",
              "      <td>2018-08-07</td>\n",
              "      <td>0 days 15:59:23.691254243</td>\n",
              "      <td>SRCL</td>\n",
              "      <td>2</td>\n",
              "      <td>47.055</td>\n",
              "    </tr>\n",
              "    <tr>\n",
              "      <th>237537</th>\n",
              "      <td>2018-08-07</td>\n",
              "      <td>0 days 15:59:23.691256845</td>\n",
              "      <td>SRCL</td>\n",
              "      <td>149</td>\n",
              "      <td>47.040</td>\n",
              "    </tr>\n",
              "    <tr>\n",
              "      <th>237538</th>\n",
              "      <td>2018-08-07</td>\n",
              "      <td>0 days 15:59:23.691260027</td>\n",
              "      <td>SRCL</td>\n",
              "      <td>190</td>\n",
              "      <td>47.040</td>\n",
              "    </tr>\n",
              "  </tbody>\n",
              "</table>\n",
              "<p>8065 rows × 5 columns</p>\n",
              "</div>"
            ],
            "text/plain": [
              "             DATE                    TIME_M SYM_ROOT  SIZE   PRICE\n",
              "229474 2018-08-07 0 days 09:30:00.357994787     SRCL  6161  62.110\n",
              "229475 2018-08-07 0 days 09:30:00.358112111     SRCL  6161  62.110\n",
              "229476 2018-08-07 0 days 09:30:00.387758175     SRCL    45  62.130\n",
              "229477 2018-08-07 0 days 09:30:00.688947801     SRCL   100  62.110\n",
              "229478 2018-08-07 0 days 09:30:01.894145495     SRCL   100  62.100\n",
              "...           ...                       ...      ...   ...     ...\n",
              "237534 2018-08-07 0 days 15:59:23.691246748     SRCL     1  47.055\n",
              "237535 2018-08-07 0 days 15:59:23.691249927     SRCL     1  47.055\n",
              "237536 2018-08-07 0 days 15:59:23.691254243     SRCL     2  47.055\n",
              "237537 2018-08-07 0 days 15:59:23.691256845     SRCL   149  47.040\n",
              "237538 2018-08-07 0 days 15:59:23.691260027     SRCL   190  47.040\n",
              "\n",
              "[8065 rows x 5 columns]"
            ]
          },
          "metadata": {
            "tags": []
          },
          "execution_count": 54
        }
      ]
    },
    {
      "cell_type": "markdown",
      "metadata": {
        "id": "vjCpycbLWSTd"
      },
      "source": [
        "#Tests"
      ]
    },
    {
      "cell_type": "code",
      "metadata": {
        "id": "w8EMI_KVDtrx"
      },
      "source": [
        "trade_df = get_trade(date_ts, 'ANTM', '2018-02-22 00:00:00')"
      ],
      "execution_count": null,
      "outputs": []
    },
    {
      "cell_type": "code",
      "metadata": {
        "colab": {
          "base_uri": "https://localhost:8080/"
        },
        "id": "Pr3kRHeZFrS7",
        "outputId": "63c99b6c-1f64-4d10-86ba-58937b5fe55e"
      },
      "source": [
        "trade_df"
      ],
      "execution_count": null,
      "outputs": [
        {
          "output_type": "execute_result",
          "data": {
            "text/html": [
              "<div>\n",
              "<style scoped>\n",
              "    .dataframe tbody tr th:only-of-type {\n",
              "        vertical-align: middle;\n",
              "    }\n",
              "\n",
              "    .dataframe tbody tr th {\n",
              "        vertical-align: top;\n",
              "    }\n",
              "\n",
              "    .dataframe thead th {\n",
              "        text-align: right;\n",
              "    }\n",
              "</style>\n",
              "<table border=\"1\" class=\"dataframe\">\n",
              "  <thead>\n",
              "    <tr style=\"text-align: right;\">\n",
              "      <th></th>\n",
              "      <th>DATE</th>\n",
              "      <th>TIME_M</th>\n",
              "      <th>SYM_ROOT</th>\n",
              "      <th>SIZE</th>\n",
              "      <th>PRICE</th>\n",
              "    </tr>\n",
              "  </thead>\n",
              "  <tbody>\n",
              "    <tr>\n",
              "      <th>0</th>\n",
              "      <td>2018-01-23</td>\n",
              "      <td>0 days 09:30:09.092674</td>\n",
              "      <td>ANTM</td>\n",
              "      <td>8477</td>\n",
              "      <td>250.47</td>\n",
              "    </tr>\n",
              "    <tr>\n",
              "      <th>1</th>\n",
              "      <td>2018-01-23</td>\n",
              "      <td>0 days 09:30:09.139348</td>\n",
              "      <td>ANTM</td>\n",
              "      <td>100</td>\n",
              "      <td>250.55</td>\n",
              "    </tr>\n",
              "    <tr>\n",
              "      <th>2</th>\n",
              "      <td>2018-01-23</td>\n",
              "      <td>0 days 09:30:09.143723</td>\n",
              "      <td>ANTM</td>\n",
              "      <td>48</td>\n",
              "      <td>250.50</td>\n",
              "    </tr>\n",
              "    <tr>\n",
              "      <th>3</th>\n",
              "      <td>2018-01-23</td>\n",
              "      <td>0 days 09:30:09.304677</td>\n",
              "      <td>ANTM</td>\n",
              "      <td>100</td>\n",
              "      <td>249.58</td>\n",
              "    </tr>\n",
              "    <tr>\n",
              "      <th>4</th>\n",
              "      <td>2018-01-23</td>\n",
              "      <td>0 days 09:30:09.321481</td>\n",
              "      <td>ANTM</td>\n",
              "      <td>100</td>\n",
              "      <td>250.60</td>\n",
              "    </tr>\n",
              "    <tr>\n",
              "      <th>...</th>\n",
              "      <td>...</td>\n",
              "      <td>...</td>\n",
              "      <td>...</td>\n",
              "      <td>...</td>\n",
              "      <td>...</td>\n",
              "    </tr>\n",
              "    <tr>\n",
              "      <th>725583</th>\n",
              "      <td>2018-03-23</td>\n",
              "      <td>0 days 15:59:59.306575</td>\n",
              "      <td>ANTM</td>\n",
              "      <td>18</td>\n",
              "      <td>215.65</td>\n",
              "    </tr>\n",
              "    <tr>\n",
              "      <th>725584</th>\n",
              "      <td>2018-03-23</td>\n",
              "      <td>0 days 15:59:59.313484</td>\n",
              "      <td>ANTM</td>\n",
              "      <td>18</td>\n",
              "      <td>215.65</td>\n",
              "    </tr>\n",
              "    <tr>\n",
              "      <th>725585</th>\n",
              "      <td>2018-03-23</td>\n",
              "      <td>0 days 15:59:59.313873</td>\n",
              "      <td>ANTM</td>\n",
              "      <td>18</td>\n",
              "      <td>215.65</td>\n",
              "    </tr>\n",
              "    <tr>\n",
              "      <th>725586</th>\n",
              "      <td>2018-03-23</td>\n",
              "      <td>0 days 15:59:59.380092</td>\n",
              "      <td>ANTM</td>\n",
              "      <td>122</td>\n",
              "      <td>215.65</td>\n",
              "    </tr>\n",
              "    <tr>\n",
              "      <th>725587</th>\n",
              "      <td>2018-03-23</td>\n",
              "      <td>0 days 15:59:59.879471</td>\n",
              "      <td>ANTM</td>\n",
              "      <td>100</td>\n",
              "      <td>215.65</td>\n",
              "    </tr>\n",
              "  </tbody>\n",
              "</table>\n",
              "<p>725588 rows × 5 columns</p>\n",
              "</div>"
            ],
            "text/plain": [
              "             DATE                 TIME_M SYM_ROOT  SIZE   PRICE\n",
              "0      2018-01-23 0 days 09:30:09.092674     ANTM  8477  250.47\n",
              "1      2018-01-23 0 days 09:30:09.139348     ANTM   100  250.55\n",
              "2      2018-01-23 0 days 09:30:09.143723     ANTM    48  250.50\n",
              "3      2018-01-23 0 days 09:30:09.304677     ANTM   100  249.58\n",
              "4      2018-01-23 0 days 09:30:09.321481     ANTM   100  250.60\n",
              "...           ...                    ...      ...   ...     ...\n",
              "725583 2018-03-23 0 days 15:59:59.306575     ANTM    18  215.65\n",
              "725584 2018-03-23 0 days 15:59:59.313484     ANTM    18  215.65\n",
              "725585 2018-03-23 0 days 15:59:59.313873     ANTM    18  215.65\n",
              "725586 2018-03-23 0 days 15:59:59.380092     ANTM   122  215.65\n",
              "725587 2018-03-23 0 days 15:59:59.879471     ANTM   100  215.65\n",
              "\n",
              "[725588 rows x 5 columns]"
            ]
          },
          "metadata": {
            "tags": []
          },
          "execution_count": 10
        }
      ]
    },
    {
      "cell_type": "code",
      "metadata": {
        "colab": {
          "base_uri": "https://localhost:8080/"
        },
        "id": "3uHtgP5STJe6",
        "outputId": "5a38130b-c906-4264-9780-329740e504f4"
      },
      "source": [
        "win_date = trade_df.DATE.value_counts().index.sort_values()\n",
        "for i in win_date:\n",
        "  print(i)"
      ],
      "execution_count": null,
      "outputs": [
        {
          "output_type": "stream",
          "text": [
            "2018-01-23 00:00:00\n",
            "2018-01-24 00:00:00\n",
            "2018-01-25 00:00:00\n",
            "2018-01-26 00:00:00\n",
            "2018-01-29 00:00:00\n",
            "2018-01-30 00:00:00\n",
            "2018-01-31 00:00:00\n",
            "2018-02-01 00:00:00\n",
            "2018-02-02 00:00:00\n",
            "2018-02-05 00:00:00\n",
            "2018-02-06 00:00:00\n",
            "2018-02-07 00:00:00\n",
            "2018-02-08 00:00:00\n",
            "2018-02-09 00:00:00\n",
            "2018-02-12 00:00:00\n",
            "2018-02-13 00:00:00\n",
            "2018-02-14 00:00:00\n",
            "2018-02-15 00:00:00\n",
            "2018-02-16 00:00:00\n",
            "2018-02-20 00:00:00\n",
            "2018-02-21 00:00:00\n",
            "2018-02-22 00:00:00\n",
            "2018-02-23 00:00:00\n",
            "2018-02-26 00:00:00\n",
            "2018-02-27 00:00:00\n",
            "2018-02-28 00:00:00\n",
            "2018-03-01 00:00:00\n",
            "2018-03-02 00:00:00\n",
            "2018-03-05 00:00:00\n",
            "2018-03-06 00:00:00\n",
            "2018-03-07 00:00:00\n",
            "2018-03-08 00:00:00\n",
            "2018-03-09 00:00:00\n",
            "2018-03-12 00:00:00\n",
            "2018-03-13 00:00:00\n",
            "2018-03-14 00:00:00\n",
            "2018-03-15 00:00:00\n",
            "2018-03-16 00:00:00\n",
            "2018-03-19 00:00:00\n",
            "2018-03-20 00:00:00\n",
            "2018-03-21 00:00:00\n",
            "2018-03-22 00:00:00\n",
            "2018-03-23 00:00:00\n"
          ],
          "name": "stdout"
        }
      ]
    },
    {
      "cell_type": "code",
      "metadata": {
        "colab": {
          "base_uri": "https://localhost:8080/"
        },
        "id": "UwGDbfsgbCvC",
        "outputId": "37c421de-26b9-45b6-b6f1-5d88574cf030"
      },
      "source": [
        "df = get_data(date_ts, 'ANTM', '2018-02-22 00:00:00')"
      ],
      "execution_count": null,
      "outputs": [
        {
          "output_type": "stream",
          "text": [
            "/usr/local/lib/python3.7/dist-packages/ipykernel_launcher.py:7: UserWarning: Boolean Series key will be reindexed to match DataFrame index.\n",
            "  import sys\n",
            "/usr/local/lib/python3.7/dist-packages/ipykernel_launcher.py:7: UserWarning: Boolean Series key will be reindexed to match DataFrame index.\n",
            "  import sys\n"
          ],
          "name": "stderr"
        }
      ]
    },
    {
      "cell_type": "code",
      "metadata": {
        "colab": {
          "base_uri": "https://localhost:8080/"
        },
        "id": "T3kfwtF2i9Lh",
        "outputId": "fc209053-9b8c-43c2-a71f-34101f856d07"
      },
      "source": [
        "df"
      ],
      "execution_count": null,
      "outputs": [
        {
          "output_type": "execute_result",
          "data": {
            "text/html": [
              "<div>\n",
              "<style scoped>\n",
              "    .dataframe tbody tr th:only-of-type {\n",
              "        vertical-align: middle;\n",
              "    }\n",
              "\n",
              "    .dataframe tbody tr th {\n",
              "        vertical-align: top;\n",
              "    }\n",
              "\n",
              "    .dataframe thead th {\n",
              "        text-align: right;\n",
              "    }\n",
              "</style>\n",
              "<table border=\"1\" class=\"dataframe\">\n",
              "  <thead>\n",
              "    <tr style=\"text-align: right;\">\n",
              "      <th></th>\n",
              "      <th>DATE</th>\n",
              "      <th>TIME_M</th>\n",
              "      <th>BID</th>\n",
              "      <th>BIDSIZ</th>\n",
              "      <th>ASK</th>\n",
              "      <th>ASKSIZ</th>\n",
              "      <th>SYM_ROOT</th>\n",
              "    </tr>\n",
              "  </thead>\n",
              "  <tbody>\n",
              "    <tr>\n",
              "      <th>0</th>\n",
              "      <td>2018-01-23</td>\n",
              "      <td>0 days 09:30:00.016817</td>\n",
              "      <td>248.68</td>\n",
              "      <td>1</td>\n",
              "      <td>251.76</td>\n",
              "      <td>1</td>\n",
              "      <td>ANTM</td>\n",
              "    </tr>\n",
              "    <tr>\n",
              "      <th>1</th>\n",
              "      <td>2018-01-23</td>\n",
              "      <td>0 days 09:30:00.016935</td>\n",
              "      <td>248.68</td>\n",
              "      <td>1</td>\n",
              "      <td>251.76</td>\n",
              "      <td>2</td>\n",
              "      <td>ANTM</td>\n",
              "    </tr>\n",
              "    <tr>\n",
              "      <th>2</th>\n",
              "      <td>2018-01-23</td>\n",
              "      <td>0 days 09:30:00.017179</td>\n",
              "      <td>248.67</td>\n",
              "      <td>1</td>\n",
              "      <td>251.76</td>\n",
              "      <td>1</td>\n",
              "      <td>ANTM</td>\n",
              "    </tr>\n",
              "    <tr>\n",
              "      <th>3</th>\n",
              "      <td>2018-01-23</td>\n",
              "      <td>0 days 09:30:00.017245</td>\n",
              "      <td>248.22</td>\n",
              "      <td>1</td>\n",
              "      <td>251.76</td>\n",
              "      <td>1</td>\n",
              "      <td>ANTM</td>\n",
              "    </tr>\n",
              "    <tr>\n",
              "      <th>4</th>\n",
              "      <td>2018-01-23</td>\n",
              "      <td>0 days 09:30:00.019935</td>\n",
              "      <td>248.67</td>\n",
              "      <td>1</td>\n",
              "      <td>251.76</td>\n",
              "      <td>2</td>\n",
              "      <td>ANTM</td>\n",
              "    </tr>\n",
              "    <tr>\n",
              "      <th>...</th>\n",
              "      <td>...</td>\n",
              "      <td>...</td>\n",
              "      <td>...</td>\n",
              "      <td>...</td>\n",
              "      <td>...</td>\n",
              "      <td>...</td>\n",
              "      <td>...</td>\n",
              "    </tr>\n",
              "    <tr>\n",
              "      <th>6415752</th>\n",
              "      <td>2018-03-22</td>\n",
              "      <td>0 days 15:59:59.939095</td>\n",
              "      <td>218.79</td>\n",
              "      <td>1</td>\n",
              "      <td>218.85</td>\n",
              "      <td>59</td>\n",
              "      <td>ANTM</td>\n",
              "    </tr>\n",
              "    <tr>\n",
              "      <th>6415753</th>\n",
              "      <td>2018-03-22</td>\n",
              "      <td>0 days 15:59:59.939211</td>\n",
              "      <td>218.79</td>\n",
              "      <td>1</td>\n",
              "      <td>218.84</td>\n",
              "      <td>41</td>\n",
              "      <td>ANTM</td>\n",
              "    </tr>\n",
              "    <tr>\n",
              "      <th>6415754</th>\n",
              "      <td>2018-03-22</td>\n",
              "      <td>0 days 15:59:59.939332</td>\n",
              "      <td>218.75</td>\n",
              "      <td>1</td>\n",
              "      <td>218.84</td>\n",
              "      <td>1</td>\n",
              "      <td>ANTM</td>\n",
              "    </tr>\n",
              "    <tr>\n",
              "      <th>6415755</th>\n",
              "      <td>2018-03-22</td>\n",
              "      <td>0 days 15:59:59.939616</td>\n",
              "      <td>218.75</td>\n",
              "      <td>2</td>\n",
              "      <td>218.85</td>\n",
              "      <td>1</td>\n",
              "      <td>ANTM</td>\n",
              "    </tr>\n",
              "    <tr>\n",
              "      <th>6415756</th>\n",
              "      <td>2018-03-22</td>\n",
              "      <td>0 days 15:59:59.971163</td>\n",
              "      <td>218.79</td>\n",
              "      <td>1</td>\n",
              "      <td>218.84</td>\n",
              "      <td>86</td>\n",
              "      <td>ANTM</td>\n",
              "    </tr>\n",
              "  </tbody>\n",
              "</table>\n",
              "<p>6415757 rows × 7 columns</p>\n",
              "</div>"
            ],
            "text/plain": [
              "              DATE                 TIME_M     BID  ...     ASK  ASKSIZ  SYM_ROOT\n",
              "0       2018-01-23 0 days 09:30:00.016817  248.68  ...  251.76       1      ANTM\n",
              "1       2018-01-23 0 days 09:30:00.016935  248.68  ...  251.76       2      ANTM\n",
              "2       2018-01-23 0 days 09:30:00.017179  248.67  ...  251.76       1      ANTM\n",
              "3       2018-01-23 0 days 09:30:00.017245  248.22  ...  251.76       1      ANTM\n",
              "4       2018-01-23 0 days 09:30:00.019935  248.67  ...  251.76       2      ANTM\n",
              "...            ...                    ...     ...  ...     ...     ...       ...\n",
              "6415752 2018-03-22 0 days 15:59:59.939095  218.79  ...  218.85      59      ANTM\n",
              "6415753 2018-03-22 0 days 15:59:59.939211  218.79  ...  218.84      41      ANTM\n",
              "6415754 2018-03-22 0 days 15:59:59.939332  218.75  ...  218.84       1      ANTM\n",
              "6415755 2018-03-22 0 days 15:59:59.939616  218.75  ...  218.85       1      ANTM\n",
              "6415756 2018-03-22 0 days 15:59:59.971163  218.79  ...  218.84      86      ANTM\n",
              "\n",
              "[6415757 rows x 7 columns]"
            ]
          },
          "metadata": {
            "tags": []
          },
          "execution_count": 12
        }
      ]
    },
    {
      "cell_type": "code",
      "metadata": {
        "colab": {
          "base_uri": "https://localhost:8080/"
        },
        "id": "mGQNnGlthF20",
        "outputId": "ff919156-92bd-430e-adb4-76442b50c545"
      },
      "source": [
        "# Missings report\n",
        "df.replace([np.inf, -np.inf], np.nan)\n",
        "Nulls = df.isnull().sum()\n",
        "plt.figure(figsize=(20,8))\n",
        "plt.xticks(rotation=\"vertical\")\n",
        "plt.bar(Nulls.index, 100*Nulls.values/len(df.index))\n",
        "plt.ylabel(\"% of missing data\")\n",
        "print(df.shape)"
      ],
      "execution_count": null,
      "outputs": [
        {
          "output_type": "stream",
          "text": [
            "(6415757, 7)\n"
          ],
          "name": "stdout"
        },
        {
          "output_type": "display_data",
          "data": {
            "image/png": "[encoded data removed]",
            "text/plain": [
              "<Figure size 1440x576 with 1 Axes>"
            ]
          },
          "metadata": {
            "tags": [],
            "needs_background": "light"
          }
        }
      ]
    },
    {
      "cell_type": "code",
      "metadata": {
        "colab": {
          "base_uri": "https://localhost:8080/"
        },
        "id": "QOrs9oCZ5V6_",
        "outputId": "196a89cb-db35-4fbd-c04e-5bb44de892e4"
      },
      "source": [
        "trade_df[trade_df.DATE == '2018-01-23']"
      ],
      "execution_count": null,
      "outputs": [
        {
          "output_type": "execute_result",
          "data": {
            "text/html": [
              "<div>\n",
              "<style scoped>\n",
              "    .dataframe tbody tr th:only-of-type {\n",
              "        vertical-align: middle;\n",
              "    }\n",
              "\n",
              "    .dataframe tbody tr th {\n",
              "        vertical-align: top;\n",
              "    }\n",
              "\n",
              "    .dataframe thead th {\n",
              "        text-align: right;\n",
              "    }\n",
              "</style>\n",
              "<table border=\"1\" class=\"dataframe\">\n",
              "  <thead>\n",
              "    <tr style=\"text-align: right;\">\n",
              "      <th></th>\n",
              "      <th>DATE</th>\n",
              "      <th>TIME_M</th>\n",
              "      <th>SYM_ROOT</th>\n",
              "      <th>SIZE</th>\n",
              "      <th>PRICE</th>\n",
              "    </tr>\n",
              "  </thead>\n",
              "  <tbody>\n",
              "    <tr>\n",
              "      <th>0</th>\n",
              "      <td>2018-01-23</td>\n",
              "      <td>0 days 09:30:09.092674</td>\n",
              "      <td>ANTM</td>\n",
              "      <td>8477</td>\n",
              "      <td>250.47</td>\n",
              "    </tr>\n",
              "    <tr>\n",
              "      <th>1</th>\n",
              "      <td>2018-01-23</td>\n",
              "      <td>0 days 09:30:09.139348</td>\n",
              "      <td>ANTM</td>\n",
              "      <td>100</td>\n",
              "      <td>250.55</td>\n",
              "    </tr>\n",
              "    <tr>\n",
              "      <th>2</th>\n",
              "      <td>2018-01-23</td>\n",
              "      <td>0 days 09:30:09.143723</td>\n",
              "      <td>ANTM</td>\n",
              "      <td>48</td>\n",
              "      <td>250.50</td>\n",
              "    </tr>\n",
              "    <tr>\n",
              "      <th>3</th>\n",
              "      <td>2018-01-23</td>\n",
              "      <td>0 days 09:30:09.304677</td>\n",
              "      <td>ANTM</td>\n",
              "      <td>100</td>\n",
              "      <td>249.58</td>\n",
              "    </tr>\n",
              "    <tr>\n",
              "      <th>4</th>\n",
              "      <td>2018-01-23</td>\n",
              "      <td>0 days 09:30:09.321481</td>\n",
              "      <td>ANTM</td>\n",
              "      <td>100</td>\n",
              "      <td>250.60</td>\n",
              "    </tr>\n",
              "    <tr>\n",
              "      <th>...</th>\n",
              "      <td>...</td>\n",
              "      <td>...</td>\n",
              "      <td>...</td>\n",
              "      <td>...</td>\n",
              "      <td>...</td>\n",
              "    </tr>\n",
              "    <tr>\n",
              "      <th>11934</th>\n",
              "      <td>2018-01-23</td>\n",
              "      <td>0 days 15:59:59.628677</td>\n",
              "      <td>ANTM</td>\n",
              "      <td>16</td>\n",
              "      <td>250.50</td>\n",
              "    </tr>\n",
              "    <tr>\n",
              "      <th>11935</th>\n",
              "      <td>2018-01-23</td>\n",
              "      <td>0 days 15:59:59.630235</td>\n",
              "      <td>ANTM</td>\n",
              "      <td>100</td>\n",
              "      <td>250.50</td>\n",
              "    </tr>\n",
              "    <tr>\n",
              "      <th>11936</th>\n",
              "      <td>2018-01-23</td>\n",
              "      <td>0 days 15:59:59.717290</td>\n",
              "      <td>ANTM</td>\n",
              "      <td>92</td>\n",
              "      <td>250.50</td>\n",
              "    </tr>\n",
              "    <tr>\n",
              "      <th>11937</th>\n",
              "      <td>2018-01-23</td>\n",
              "      <td>0 days 15:59:59.760443</td>\n",
              "      <td>ANTM</td>\n",
              "      <td>39</td>\n",
              "      <td>250.51</td>\n",
              "    </tr>\n",
              "    <tr>\n",
              "      <th>11938</th>\n",
              "      <td>2018-01-23</td>\n",
              "      <td>0 days 15:59:59.785057</td>\n",
              "      <td>ANTM</td>\n",
              "      <td>75</td>\n",
              "      <td>250.50</td>\n",
              "    </tr>\n",
              "  </tbody>\n",
              "</table>\n",
              "<p>11939 rows × 5 columns</p>\n",
              "</div>"
            ],
            "text/plain": [
              "            DATE                 TIME_M SYM_ROOT  SIZE   PRICE\n",
              "0     2018-01-23 0 days 09:30:09.092674     ANTM  8477  250.47\n",
              "1     2018-01-23 0 days 09:30:09.139348     ANTM   100  250.55\n",
              "2     2018-01-23 0 days 09:30:09.143723     ANTM    48  250.50\n",
              "3     2018-01-23 0 days 09:30:09.304677     ANTM   100  249.58\n",
              "4     2018-01-23 0 days 09:30:09.321481     ANTM   100  250.60\n",
              "...          ...                    ...      ...   ...     ...\n",
              "11934 2018-01-23 0 days 15:59:59.628677     ANTM    16  250.50\n",
              "11935 2018-01-23 0 days 15:59:59.630235     ANTM   100  250.50\n",
              "11936 2018-01-23 0 days 15:59:59.717290     ANTM    92  250.50\n",
              "11937 2018-01-23 0 days 15:59:59.760443     ANTM    39  250.51\n",
              "11938 2018-01-23 0 days 15:59:59.785057     ANTM    75  250.50\n",
              "\n",
              "[11939 rows x 5 columns]"
            ]
          },
          "metadata": {
            "tags": []
          },
          "execution_count": 13
        }
      ]
    },
    {
      "cell_type": "code",
      "metadata": {
        "colab": {
          "base_uri": "https://localhost:8080/"
        },
        "id": "LJmq10NqhX2J",
        "outputId": "63d717a0-09a3-48e0-be20-a0ce4652e72b"
      },
      "source": [
        "# Missings report\n",
        "trade_df.replace([np.inf, -np.inf], np.nan)\n",
        "Nulls = trade_df.isnull().sum()\n",
        "plt.figure(figsize=(20,8))\n",
        "plt.xticks(rotation=\"vertical\")\n",
        "plt.bar(Nulls.index, 100*Nulls.values/len(trade_df.index))\n",
        "plt.ylabel(\"% of missing data\")\n",
        "print(trade_df.shape)"
      ],
      "execution_count": null,
      "outputs": [
        {
          "output_type": "stream",
          "text": [
            "(725588, 5)\n"
          ],
          "name": "stdout"
        },
        {
          "output_type": "display_data",
          "data": {
            "image/png": "[encoded data removed]",
            "text/plain": [
              "<Figure size 1440x576 with 1 Axes>"
            ]
          },
          "metadata": {
            "tags": [],
            "needs_background": "light"
          }
        }
      ]
    },
    {
      "cell_type": "code",
      "metadata": {
        "colab": {
          "base_uri": "https://localhost:8080/"
        },
        "id": "H03AoFuOs5pS",
        "outputId": "b6206ed6-0da0-47ac-b712-8ff3983256c1"
      },
      "source": [
        "result = cal_vars(df[df.DATE == '2018-01-23'], trade_df[trade_df.DATE == '2018-01-23'])"
      ],
      "execution_count": null,
      "outputs": [
        {
          "output_type": "stream",
          "text": [
            "hello\n",
            "Initialization Finished\n",
            "0.009070634841918945\n"
          ],
          "name": "stdout"
        },
        {
          "output_type": "stream",
          "text": [
            "/usr/local/lib/python3.7/dist-packages/ipykernel_launcher.py:9: SettingWithCopyWarning: \n",
            "A value is trying to be set on a copy of a slice from a DataFrame.\n",
            "Try using .loc[row_indexer,col_indexer] = value instead\n",
            "\n",
            "See the caveats in the documentation: https://pandas.pydata.org/pandas-docs/stable/user_guide/indexing.html#returning-a-view-versus-a-copy\n",
            "  if __name__ == '__main__':\n",
            "/usr/local/lib/python3.7/dist-packages/ipykernel_launcher.py:10: SettingWithCopyWarning: \n",
            "A value is trying to be set on a copy of a slice from a DataFrame.\n",
            "Try using .loc[row_indexer,col_indexer] = value instead\n",
            "\n",
            "See the caveats in the documentation: https://pandas.pydata.org/pandas-docs/stable/user_guide/indexing.html#returning-a-view-versus-a-copy\n",
            "  # Remove the CWD from sys.path while we load stuff.\n",
            "/usr/local/lib/python3.7/dist-packages/ipykernel_launcher.py:12: SettingWithCopyWarning: \n",
            "A value is trying to be set on a copy of a slice from a DataFrame.\n",
            "Try using .loc[row_indexer,col_indexer] = value instead\n",
            "\n",
            "See the caveats in the documentation: https://pandas.pydata.org/pandas-docs/stable/user_guide/indexing.html#returning-a-view-versus-a-copy\n",
            "  if sys.path[0] == '':\n",
            "/usr/local/lib/python3.7/dist-packages/ipykernel_launcher.py:13: SettingWithCopyWarning: \n",
            "A value is trying to be set on a copy of a slice from a DataFrame.\n",
            "Try using .loc[row_indexer,col_indexer] = value instead\n",
            "\n",
            "See the caveats in the documentation: https://pandas.pydata.org/pandas-docs/stable/user_guide/indexing.html#returning-a-view-versus-a-copy\n",
            "  del sys.path[0]\n",
            "/usr/local/lib/python3.7/dist-packages/ipykernel_launcher.py:14: SettingWithCopyWarning: \n",
            "A value is trying to be set on a copy of a slice from a DataFrame.\n",
            "Try using .loc[row_indexer,col_indexer] = value instead\n",
            "\n",
            "See the caveats in the documentation: https://pandas.pydata.org/pandas-docs/stable/user_guide/indexing.html#returning-a-view-versus-a-copy\n",
            "  \n",
            "/usr/local/lib/python3.7/dist-packages/ipykernel_launcher.py:15: SettingWithCopyWarning: \n",
            "A value is trying to be set on a copy of a slice from a DataFrame.\n",
            "Try using .loc[row_indexer,col_indexer] = value instead\n",
            "\n",
            "See the caveats in the documentation: https://pandas.pydata.org/pandas-docs/stable/user_guide/indexing.html#returning-a-view-versus-a-copy\n",
            "  from ipykernel import kernelapp as app\n",
            "/usr/local/lib/python3.7/dist-packages/pandas/core/indexing.py:670: SettingWithCopyWarning: \n",
            "A value is trying to be set on a copy of a slice from a DataFrame\n",
            "\n",
            "See the caveats in the documentation: https://pandas.pydata.org/pandas-docs/stable/user_guide/indexing.html#returning-a-view-versus-a-copy\n",
            "  iloc._setitem_with_indexer(indexer, value)\n",
            "/usr/local/lib/python3.7/dist-packages/ipykernel_launcher.py:25: SettingWithCopyWarning: \n",
            "A value is trying to be set on a copy of a slice from a DataFrame\n",
            "\n",
            "See the caveats in the documentation: https://pandas.pydata.org/pandas-docs/stable/user_guide/indexing.html#returning-a-view-versus-a-copy\n",
            "/usr/local/lib/python3.7/dist-packages/ipykernel_launcher.py:26: SettingWithCopyWarning: \n",
            "A value is trying to be set on a copy of a slice from a DataFrame\n",
            "\n",
            "See the caveats in the documentation: https://pandas.pydata.org/pandas-docs/stable/user_guide/indexing.html#returning-a-view-versus-a-copy\n"
          ],
          "name": "stderr"
        },
        {
          "output_type": "stream",
          "text": [
            "Finished midqoute merger\n",
            "165.15318775177002\n"
          ],
          "name": "stdout"
        },
        {
          "output_type": "stream",
          "text": [
            "/usr/local/lib/python3.7/dist-packages/ipykernel_launcher.py:34: SettingWithCopyWarning: \n",
            "A value is trying to be set on a copy of a slice from a DataFrame\n",
            "\n",
            "See the caveats in the documentation: https://pandas.pydata.org/pandas-docs/stable/user_guide/indexing.html#returning-a-view-versus-a-copy\n",
            "/usr/local/lib/python3.7/dist-packages/ipykernel_launcher.py:36: SettingWithCopyWarning: \n",
            "A value is trying to be set on a copy of a slice from a DataFrame\n",
            "\n",
            "See the caveats in the documentation: https://pandas.pydata.org/pandas-docs/stable/user_guide/indexing.html#returning-a-view-versus-a-copy\n",
            "/usr/local/lib/python3.7/dist-packages/ipykernel_launcher.py:40: SettingWithCopyWarning: \n",
            "A value is trying to be set on a copy of a slice from a DataFrame\n",
            "\n",
            "See the caveats in the documentation: https://pandas.pydata.org/pandas-docs/stable/user_guide/indexing.html#returning-a-view-versus-a-copy\n",
            "/usr/local/lib/python3.7/dist-packages/ipykernel_launcher.py:42: SettingWithCopyWarning: \n",
            "A value is trying to be set on a copy of a slice from a DataFrame\n",
            "\n",
            "See the caveats in the documentation: https://pandas.pydata.org/pandas-docs/stable/user_guide/indexing.html#returning-a-view-versus-a-copy\n",
            "/usr/local/lib/python3.7/dist-packages/ipykernel_launcher.py:38: SettingWithCopyWarning: \n",
            "A value is trying to be set on a copy of a slice from a DataFrame\n",
            "\n",
            "See the caveats in the documentation: https://pandas.pydata.org/pandas-docs/stable/user_guide/indexing.html#returning-a-view-versus-a-copy\n"
          ],
          "name": "stderr"
        },
        {
          "output_type": "stream",
          "text": [
            "finished direction\n",
            "2.889129638671875\n",
            "finished effective spread\n",
            "0.004230499267578125\n"
          ],
          "name": "stdout"
        },
        {
          "output_type": "stream",
          "text": [
            "/usr/local/lib/python3.7/dist-packages/ipykernel_launcher.py:50: SettingWithCopyWarning: \n",
            "A value is trying to be set on a copy of a slice from a DataFrame.\n",
            "Try using .loc[row_indexer,col_indexer] = value instead\n",
            "\n",
            "See the caveats in the documentation: https://pandas.pydata.org/pandas-docs/stable/user_guide/indexing.html#returning-a-view-versus-a-copy\n",
            "/usr/local/lib/python3.7/dist-packages/ipykernel_launcher.py:51: SettingWithCopyWarning: \n",
            "A value is trying to be set on a copy of a slice from a DataFrame.\n",
            "Try using .loc[row_indexer,col_indexer] = value instead\n",
            "\n",
            "See the caveats in the documentation: https://pandas.pydata.org/pandas-docs/stable/user_guide/indexing.html#returning-a-view-versus-a-copy\n",
            "/usr/local/lib/python3.7/dist-packages/ipykernel_launcher.py:62: SettingWithCopyWarning: \n",
            "A value is trying to be set on a copy of a slice from a DataFrame.\n",
            "Try using .loc[row_indexer,col_indexer] = value instead\n",
            "\n",
            "See the caveats in the documentation: https://pandas.pydata.org/pandas-docs/stable/user_guide/indexing.html#returning-a-view-versus-a-copy\n",
            "/usr/local/lib/python3.7/dist-packages/ipykernel_launcher.py:63: SettingWithCopyWarning: \n",
            "A value is trying to be set on a copy of a slice from a DataFrame.\n",
            "Try using .loc[row_indexer,col_indexer] = value instead\n",
            "\n",
            "See the caveats in the documentation: https://pandas.pydata.org/pandas-docs/stable/user_guide/indexing.html#returning-a-view-versus-a-copy\n",
            "/usr/local/lib/python3.7/dist-packages/ipykernel_launcher.py:64: SettingWithCopyWarning: \n",
            "A value is trying to be set on a copy of a slice from a DataFrame.\n",
            "Try using .loc[row_indexer,col_indexer] = value instead\n",
            "\n",
            "See the caveats in the documentation: https://pandas.pydata.org/pandas-docs/stable/user_guide/indexing.html#returning-a-view-versus-a-copy\n",
            "/usr/local/lib/python3.7/dist-packages/ipykernel_launcher.py:65: SettingWithCopyWarning: \n",
            "A value is trying to be set on a copy of a slice from a DataFrame.\n",
            "Try using .loc[row_indexer,col_indexer] = value instead\n",
            "\n",
            "See the caveats in the documentation: https://pandas.pydata.org/pandas-docs/stable/user_guide/indexing.html#returning-a-view-versus-a-copy\n",
            "/usr/local/lib/python3.7/dist-packages/ipykernel_launcher.py:66: SettingWithCopyWarning: \n",
            "A value is trying to be set on a copy of a slice from a DataFrame.\n",
            "Try using .loc[row_indexer,col_indexer] = value instead\n",
            "\n",
            "See the caveats in the documentation: https://pandas.pydata.org/pandas-docs/stable/user_guide/indexing.html#returning-a-view-versus-a-copy\n",
            "/usr/local/lib/python3.7/dist-packages/ipykernel_launcher.py:70: SettingWithCopyWarning: \n",
            "A value is trying to be set on a copy of a slice from a DataFrame\n",
            "\n",
            "See the caveats in the documentation: https://pandas.pydata.org/pandas-docs/stable/user_guide/indexing.html#returning-a-view-versus-a-copy\n",
            "/usr/local/lib/python3.7/dist-packages/ipykernel_launcher.py:74: SettingWithCopyWarning: \n",
            "A value is trying to be set on a copy of a slice from a DataFrame\n",
            "\n",
            "See the caveats in the documentation: https://pandas.pydata.org/pandas-docs/stable/user_guide/indexing.html#returning-a-view-versus-a-copy\n",
            "/usr/local/lib/python3.7/dist-packages/ipykernel_launcher.py:78: SettingWithCopyWarning: \n",
            "A value is trying to be set on a copy of a slice from a DataFrame\n",
            "\n",
            "See the caveats in the documentation: https://pandas.pydata.org/pandas-docs/stable/user_guide/indexing.html#returning-a-view-versus-a-copy\n",
            "/usr/local/lib/python3.7/dist-packages/ipykernel_launcher.py:82: SettingWithCopyWarning: \n",
            "A value is trying to be set on a copy of a slice from a DataFrame\n",
            "\n",
            "See the caveats in the documentation: https://pandas.pydata.org/pandas-docs/stable/user_guide/indexing.html#returning-a-view-versus-a-copy\n",
            "/usr/local/lib/python3.7/dist-packages/ipykernel_launcher.py:86: SettingWithCopyWarning: \n",
            "A value is trying to be set on a copy of a slice from a DataFrame\n",
            "\n",
            "See the caveats in the documentation: https://pandas.pydata.org/pandas-docs/stable/user_guide/indexing.html#returning-a-view-versus-a-copy\n",
            "/usr/local/lib/python3.7/dist-packages/ipykernel_launcher.py:88: SettingWithCopyWarning: \n",
            "A value is trying to be set on a copy of a slice from a DataFrame\n",
            "\n",
            "See the caveats in the documentation: https://pandas.pydata.org/pandas-docs/stable/user_guide/indexing.html#returning-a-view-versus-a-copy\n",
            "/usr/local/lib/python3.7/dist-packages/ipykernel_launcher.py:84: SettingWithCopyWarning: \n",
            "A value is trying to be set on a copy of a slice from a DataFrame\n",
            "\n",
            "See the caveats in the documentation: https://pandas.pydata.org/pandas-docs/stable/user_guide/indexing.html#returning-a-view-versus-a-copy\n",
            "/usr/local/lib/python3.7/dist-packages/ipykernel_launcher.py:80: SettingWithCopyWarning: \n",
            "A value is trying to be set on a copy of a slice from a DataFrame\n",
            "\n",
            "See the caveats in the documentation: https://pandas.pydata.org/pandas-docs/stable/user_guide/indexing.html#returning-a-view-versus-a-copy\n",
            "/usr/local/lib/python3.7/dist-packages/ipykernel_launcher.py:76: SettingWithCopyWarning: \n",
            "A value is trying to be set on a copy of a slice from a DataFrame\n",
            "\n",
            "See the caveats in the documentation: https://pandas.pydata.org/pandas-docs/stable/user_guide/indexing.html#returning-a-view-versus-a-copy\n",
            "/usr/local/lib/python3.7/dist-packages/ipykernel_launcher.py:72: SettingWithCopyWarning: \n",
            "A value is trying to be set on a copy of a slice from a DataFrame\n",
            "\n",
            "See the caveats in the documentation: https://pandas.pydata.org/pandas-docs/stable/user_guide/indexing.html#returning-a-view-versus-a-copy\n"
          ],
          "name": "stderr"
        },
        {
          "output_type": "stream",
          "text": [
            "finished realized spread\n",
            "81.519695520401\n",
            "finished price impacts\n",
            "0.005427360534667969\n"
          ],
          "name": "stdout"
        },
        {
          "output_type": "stream",
          "text": [
            "/usr/local/lib/python3.7/dist-packages/ipykernel_launcher.py:95: SettingWithCopyWarning: \n",
            "A value is trying to be set on a copy of a slice from a DataFrame.\n",
            "Try using .loc[row_indexer,col_indexer] = value instead\n",
            "\n",
            "See the caveats in the documentation: https://pandas.pydata.org/pandas-docs/stable/user_guide/indexing.html#returning-a-view-versus-a-copy\n",
            "/usr/local/lib/python3.7/dist-packages/ipykernel_launcher.py:96: SettingWithCopyWarning: \n",
            "A value is trying to be set on a copy of a slice from a DataFrame.\n",
            "Try using .loc[row_indexer,col_indexer] = value instead\n",
            "\n",
            "See the caveats in the documentation: https://pandas.pydata.org/pandas-docs/stable/user_guide/indexing.html#returning-a-view-versus-a-copy\n",
            "/usr/local/lib/python3.7/dist-packages/ipykernel_launcher.py:97: SettingWithCopyWarning: \n",
            "A value is trying to be set on a copy of a slice from a DataFrame.\n",
            "Try using .loc[row_indexer,col_indexer] = value instead\n",
            "\n",
            "See the caveats in the documentation: https://pandas.pydata.org/pandas-docs/stable/user_guide/indexing.html#returning-a-view-versus-a-copy\n",
            "/usr/local/lib/python3.7/dist-packages/ipykernel_launcher.py:98: SettingWithCopyWarning: \n",
            "A value is trying to be set on a copy of a slice from a DataFrame.\n",
            "Try using .loc[row_indexer,col_indexer] = value instead\n",
            "\n",
            "See the caveats in the documentation: https://pandas.pydata.org/pandas-docs/stable/user_guide/indexing.html#returning-a-view-versus-a-copy\n",
            "/usr/local/lib/python3.7/dist-packages/ipykernel_launcher.py:99: SettingWithCopyWarning: \n",
            "A value is trying to be set on a copy of a slice from a DataFrame.\n",
            "Try using .loc[row_indexer,col_indexer] = value instead\n",
            "\n",
            "See the caveats in the documentation: https://pandas.pydata.org/pandas-docs/stable/user_guide/indexing.html#returning-a-view-versus-a-copy\n",
            "/usr/local/lib/python3.7/dist-packages/ipykernel_launcher.py:105: SettingWithCopyWarning: \n",
            "A value is trying to be set on a copy of a slice from a DataFrame.\n",
            "Try using .loc[row_indexer,col_indexer] = value instead\n",
            "\n",
            "See the caveats in the documentation: https://pandas.pydata.org/pandas-docs/stable/user_guide/indexing.html#returning-a-view-versus-a-copy\n",
            "/usr/local/lib/python3.7/dist-packages/ipykernel_launcher.py:107: SettingWithCopyWarning: \n",
            "A value is trying to be set on a copy of a slice from a DataFrame\n",
            "\n",
            "See the caveats in the documentation: https://pandas.pydata.org/pandas-docs/stable/user_guide/indexing.html#returning-a-view-versus-a-copy\n"
          ],
          "name": "stderr"
        },
        {
          "output_type": "stream",
          "text": [
            "finished illiquid ratio\n",
            "2.727468967437744\n"
          ],
          "name": "stdout"
        }
      ]
    },
    {
      "cell_type": "code",
      "metadata": {
        "colab": {
          "base_uri": "https://localhost:8080/"
        },
        "id": "L5_7HRUWXTKe",
        "outputId": "11e18e83-b5ba-48f3-ab43-7354ad1d0e02"
      },
      "source": [
        "result"
      ],
      "execution_count": null,
      "outputs": [
        {
          "output_type": "execute_result",
          "data": {
            "text/html": [
              "<div>\n",
              "<style scoped>\n",
              "    .dataframe tbody tr th:only-of-type {\n",
              "        vertical-align: middle;\n",
              "    }\n",
              "\n",
              "    .dataframe tbody tr th {\n",
              "        vertical-align: top;\n",
              "    }\n",
              "\n",
              "    .dataframe thead th {\n",
              "        text-align: right;\n",
              "    }\n",
              "</style>\n",
              "<table border=\"1\" class=\"dataframe\">\n",
              "  <thead>\n",
              "    <tr style=\"text-align: right;\">\n",
              "      <th></th>\n",
              "      <th>DATE</th>\n",
              "      <th>TIME_M</th>\n",
              "      <th>SYM_ROOT</th>\n",
              "      <th>SIZE</th>\n",
              "      <th>PRICE</th>\n",
              "      <th>qouted_spread</th>\n",
              "      <th>effective_spread</th>\n",
              "      <th>midquote</th>\n",
              "      <th>d</th>\n",
              "      <th>relative_effective_spread</th>\n",
              "      <th>realized_spread_30s</th>\n",
              "      <th>realized_spread_1m</th>\n",
              "      <th>realized_spread_5m</th>\n",
              "      <th>realized_spread_10m</th>\n",
              "      <th>realized_spread_30m</th>\n",
              "      <th>price_impact_30s</th>\n",
              "      <th>price_impact_1m</th>\n",
              "      <th>price_impact_5m</th>\n",
              "      <th>price_impact_10m</th>\n",
              "      <th>price_impact_30m</th>\n",
              "      <th>illiquid_ratio</th>\n",
              "    </tr>\n",
              "  </thead>\n",
              "  <tbody>\n",
              "    <tr>\n",
              "      <th>0</th>\n",
              "      <td>2018-01-23</td>\n",
              "      <td>0 days 09:30:09.092674</td>\n",
              "      <td>ANTM</td>\n",
              "      <td>8477</td>\n",
              "      <td>250.47</td>\n",
              "      <td>NaN</td>\n",
              "      <td>NaN</td>\n",
              "      <td>NaN</td>\n",
              "      <td>NaN</td>\n",
              "      <td>NaN</td>\n",
              "      <td>NaN</td>\n",
              "      <td>NaN</td>\n",
              "      <td>NaN</td>\n",
              "      <td>NaN</td>\n",
              "      <td>NaN</td>\n",
              "      <td>NaN</td>\n",
              "      <td>NaN</td>\n",
              "      <td>NaN</td>\n",
              "      <td>NaN</td>\n",
              "      <td>NaN</td>\n",
              "      <td>NaN</td>\n",
              "    </tr>\n",
              "    <tr>\n",
              "      <th>1</th>\n",
              "      <td>2018-01-23</td>\n",
              "      <td>0 days 09:30:09.139348</td>\n",
              "      <td>ANTM</td>\n",
              "      <td>100</td>\n",
              "      <td>250.55</td>\n",
              "      <td>0.014713</td>\n",
              "      <td>0.86</td>\n",
              "      <td>250.120</td>\n",
              "      <td>1.0</td>\n",
              "      <td>0.003438</td>\n",
              "      <td>0.43</td>\n",
              "      <td>0.21</td>\n",
              "      <td>1.36</td>\n",
              "      <td>2.26</td>\n",
              "      <td>1.90</td>\n",
              "      <td>0.43</td>\n",
              "      <td>0.65</td>\n",
              "      <td>-0.50</td>\n",
              "      <td>-1.40</td>\n",
              "      <td>-1.04</td>\n",
              "      <td>1.274590e-08</td>\n",
              "    </tr>\n",
              "    <tr>\n",
              "      <th>2</th>\n",
              "      <td>2018-01-23</td>\n",
              "      <td>0 days 09:30:09.143723</td>\n",
              "      <td>ANTM</td>\n",
              "      <td>48</td>\n",
              "      <td>250.50</td>\n",
              "      <td>0.005834</td>\n",
              "      <td>0.46</td>\n",
              "      <td>250.270</td>\n",
              "      <td>1.0</td>\n",
              "      <td>0.001838</td>\n",
              "      <td>0.33</td>\n",
              "      <td>0.11</td>\n",
              "      <td>1.26</td>\n",
              "      <td>2.16</td>\n",
              "      <td>1.80</td>\n",
              "      <td>0.13</td>\n",
              "      <td>0.35</td>\n",
              "      <td>-0.80</td>\n",
              "      <td>-1.70</td>\n",
              "      <td>-1.34</td>\n",
              "      <td>1.659854e-08</td>\n",
              "    </tr>\n",
              "    <tr>\n",
              "      <th>3</th>\n",
              "      <td>2018-01-23</td>\n",
              "      <td>0 days 09:30:09.304677</td>\n",
              "      <td>ANTM</td>\n",
              "      <td>100</td>\n",
              "      <td>249.58</td>\n",
              "      <td>0.007731</td>\n",
              "      <td>0.11</td>\n",
              "      <td>249.635</td>\n",
              "      <td>-1.0</td>\n",
              "      <td>0.000441</td>\n",
              "      <td>1.51</td>\n",
              "      <td>1.73</td>\n",
              "      <td>0.58</td>\n",
              "      <td>-0.32</td>\n",
              "      <td>0.04</td>\n",
              "      <td>-1.40</td>\n",
              "      <td>-1.62</td>\n",
              "      <td>-0.47</td>\n",
              "      <td>0.43</td>\n",
              "      <td>0.07</td>\n",
              "      <td>1.474243e-07</td>\n",
              "    </tr>\n",
              "    <tr>\n",
              "      <th>4</th>\n",
              "      <td>2018-01-23</td>\n",
              "      <td>0 days 09:30:09.321481</td>\n",
              "      <td>ANTM</td>\n",
              "      <td>100</td>\n",
              "      <td>250.60</td>\n",
              "      <td>0.014373</td>\n",
              "      <td>0.26</td>\n",
              "      <td>250.470</td>\n",
              "      <td>1.0</td>\n",
              "      <td>0.001038</td>\n",
              "      <td>0.53</td>\n",
              "      <td>0.31</td>\n",
              "      <td>1.46</td>\n",
              "      <td>2.36</td>\n",
              "      <td>2.00</td>\n",
              "      <td>-0.27</td>\n",
              "      <td>-0.05</td>\n",
              "      <td>-1.20</td>\n",
              "      <td>-2.10</td>\n",
              "      <td>-1.74</td>\n",
              "      <td>1.627509e-07</td>\n",
              "    </tr>\n",
              "    <tr>\n",
              "      <th>...</th>\n",
              "      <td>...</td>\n",
              "      <td>...</td>\n",
              "      <td>...</td>\n",
              "      <td>...</td>\n",
              "      <td>...</td>\n",
              "      <td>...</td>\n",
              "      <td>...</td>\n",
              "      <td>...</td>\n",
              "      <td>...</td>\n",
              "      <td>...</td>\n",
              "      <td>...</td>\n",
              "      <td>...</td>\n",
              "      <td>...</td>\n",
              "      <td>...</td>\n",
              "      <td>...</td>\n",
              "      <td>...</td>\n",
              "      <td>...</td>\n",
              "      <td>...</td>\n",
              "      <td>...</td>\n",
              "      <td>...</td>\n",
              "      <td>...</td>\n",
              "    </tr>\n",
              "    <tr>\n",
              "      <th>11934</th>\n",
              "      <td>2018-01-23</td>\n",
              "      <td>0 days 15:59:59.628677</td>\n",
              "      <td>ANTM</td>\n",
              "      <td>16</td>\n",
              "      <td>250.50</td>\n",
              "      <td>0.001637</td>\n",
              "      <td>0.07</td>\n",
              "      <td>250.465</td>\n",
              "      <td>1.0</td>\n",
              "      <td>0.000279</td>\n",
              "      <td>NaN</td>\n",
              "      <td>NaN</td>\n",
              "      <td>NaN</td>\n",
              "      <td>NaN</td>\n",
              "      <td>NaN</td>\n",
              "      <td>NaN</td>\n",
              "      <td>NaN</td>\n",
              "      <td>NaN</td>\n",
              "      <td>NaN</td>\n",
              "      <td>NaN</td>\n",
              "      <td>0.000000e+00</td>\n",
              "    </tr>\n",
              "    <tr>\n",
              "      <th>11935</th>\n",
              "      <td>2018-01-23</td>\n",
              "      <td>0 days 15:59:59.630235</td>\n",
              "      <td>ANTM</td>\n",
              "      <td>100</td>\n",
              "      <td>250.50</td>\n",
              "      <td>0.000040</td>\n",
              "      <td>0.01</td>\n",
              "      <td>250.505</td>\n",
              "      <td>-1.0</td>\n",
              "      <td>0.000040</td>\n",
              "      <td>NaN</td>\n",
              "      <td>NaN</td>\n",
              "      <td>NaN</td>\n",
              "      <td>NaN</td>\n",
              "      <td>NaN</td>\n",
              "      <td>NaN</td>\n",
              "      <td>NaN</td>\n",
              "      <td>NaN</td>\n",
              "      <td>NaN</td>\n",
              "      <td>NaN</td>\n",
              "      <td>0.000000e+00</td>\n",
              "    </tr>\n",
              "    <tr>\n",
              "      <th>11936</th>\n",
              "      <td>2018-01-23</td>\n",
              "      <td>0 days 15:59:59.717290</td>\n",
              "      <td>ANTM</td>\n",
              "      <td>92</td>\n",
              "      <td>250.50</td>\n",
              "      <td>0.000040</td>\n",
              "      <td>0.01</td>\n",
              "      <td>250.505</td>\n",
              "      <td>-1.0</td>\n",
              "      <td>0.000040</td>\n",
              "      <td>NaN</td>\n",
              "      <td>NaN</td>\n",
              "      <td>NaN</td>\n",
              "      <td>NaN</td>\n",
              "      <td>NaN</td>\n",
              "      <td>NaN</td>\n",
              "      <td>NaN</td>\n",
              "      <td>NaN</td>\n",
              "      <td>NaN</td>\n",
              "      <td>NaN</td>\n",
              "      <td>0.000000e+00</td>\n",
              "    </tr>\n",
              "    <tr>\n",
              "      <th>11937</th>\n",
              "      <td>2018-01-23</td>\n",
              "      <td>0 days 15:59:59.760443</td>\n",
              "      <td>ANTM</td>\n",
              "      <td>39</td>\n",
              "      <td>250.51</td>\n",
              "      <td>0.000998</td>\n",
              "      <td>0.13</td>\n",
              "      <td>250.575</td>\n",
              "      <td>-1.0</td>\n",
              "      <td>0.000519</td>\n",
              "      <td>NaN</td>\n",
              "      <td>NaN</td>\n",
              "      <td>NaN</td>\n",
              "      <td>NaN</td>\n",
              "      <td>NaN</td>\n",
              "      <td>NaN</td>\n",
              "      <td>NaN</td>\n",
              "      <td>NaN</td>\n",
              "      <td>NaN</td>\n",
              "      <td>NaN</td>\n",
              "      <td>4.085958e-09</td>\n",
              "    </tr>\n",
              "    <tr>\n",
              "      <th>11938</th>\n",
              "      <td>2018-01-23</td>\n",
              "      <td>0 days 15:59:59.785057</td>\n",
              "      <td>ANTM</td>\n",
              "      <td>75</td>\n",
              "      <td>250.50</td>\n",
              "      <td>0.000399</td>\n",
              "      <td>NaN</td>\n",
              "      <td>250.500</td>\n",
              "      <td>NaN</td>\n",
              "      <td>NaN</td>\n",
              "      <td>NaN</td>\n",
              "      <td>NaN</td>\n",
              "      <td>NaN</td>\n",
              "      <td>NaN</td>\n",
              "      <td>NaN</td>\n",
              "      <td>NaN</td>\n",
              "      <td>NaN</td>\n",
              "      <td>NaN</td>\n",
              "      <td>NaN</td>\n",
              "      <td>NaN</td>\n",
              "      <td>2.124783e-09</td>\n",
              "    </tr>\n",
              "  </tbody>\n",
              "</table>\n",
              "<p>11939 rows × 21 columns</p>\n",
              "</div>"
            ],
            "text/plain": [
              "            DATE                 TIME_M  ... price_impact_30m  illiquid_ratio\n",
              "0     2018-01-23 0 days 09:30:09.092674  ...              NaN             NaN\n",
              "1     2018-01-23 0 days 09:30:09.139348  ...            -1.04    1.274590e-08\n",
              "2     2018-01-23 0 days 09:30:09.143723  ...            -1.34    1.659854e-08\n",
              "3     2018-01-23 0 days 09:30:09.304677  ...             0.07    1.474243e-07\n",
              "4     2018-01-23 0 days 09:30:09.321481  ...            -1.74    1.627509e-07\n",
              "...          ...                    ...  ...              ...             ...\n",
              "11934 2018-01-23 0 days 15:59:59.628677  ...              NaN    0.000000e+00\n",
              "11935 2018-01-23 0 days 15:59:59.630235  ...              NaN    0.000000e+00\n",
              "11936 2018-01-23 0 days 15:59:59.717290  ...              NaN    0.000000e+00\n",
              "11937 2018-01-23 0 days 15:59:59.760443  ...              NaN    4.085958e-09\n",
              "11938 2018-01-23 0 days 15:59:59.785057  ...              NaN    2.124783e-09\n",
              "\n",
              "[11939 rows x 21 columns]"
            ]
          },
          "metadata": {
            "tags": []
          },
          "execution_count": 31
        }
      ]
    },
    {
      "cell_type": "code",
      "metadata": {
        "colab": {
          "base_uri": "https://localhost:8080/"
        },
        "id": "ylY_Xn0HsMfq",
        "outputId": "4f6b0494-2faa-4455-a6f1-53e4eb69b0c3"
      },
      "source": [
        "pd.DataFrame(result.isnull().sum(axis=0))\n"
      ],
      "execution_count": null,
      "outputs": [
        {
          "output_type": "execute_result",
          "data": {
            "text/html": [
              "<div>\n",
              "<style scoped>\n",
              "    .dataframe tbody tr th:only-of-type {\n",
              "        vertical-align: middle;\n",
              "    }\n",
              "\n",
              "    .dataframe tbody tr th {\n",
              "        vertical-align: top;\n",
              "    }\n",
              "\n",
              "    .dataframe thead th {\n",
              "        text-align: right;\n",
              "    }\n",
              "</style>\n",
              "<table border=\"1\" class=\"dataframe\">\n",
              "  <thead>\n",
              "    <tr style=\"text-align: right;\">\n",
              "      <th></th>\n",
              "      <th>0</th>\n",
              "    </tr>\n",
              "  </thead>\n",
              "  <tbody>\n",
              "    <tr>\n",
              "      <th>DATE</th>\n",
              "      <td>0</td>\n",
              "    </tr>\n",
              "    <tr>\n",
              "      <th>TIME_M</th>\n",
              "      <td>0</td>\n",
              "    </tr>\n",
              "    <tr>\n",
              "      <th>SYM_ROOT</th>\n",
              "      <td>0</td>\n",
              "    </tr>\n",
              "    <tr>\n",
              "      <th>SIZE</th>\n",
              "      <td>0</td>\n",
              "    </tr>\n",
              "    <tr>\n",
              "      <th>PRICE</th>\n",
              "      <td>0</td>\n",
              "    </tr>\n",
              "    <tr>\n",
              "      <th>qouted_spread</th>\n",
              "      <td>1</td>\n",
              "    </tr>\n",
              "    <tr>\n",
              "      <th>effective_spread</th>\n",
              "      <td>405</td>\n",
              "    </tr>\n",
              "    <tr>\n",
              "      <th>midquote</th>\n",
              "      <td>1</td>\n",
              "    </tr>\n",
              "    <tr>\n",
              "      <th>d</th>\n",
              "      <td>405</td>\n",
              "    </tr>\n",
              "    <tr>\n",
              "      <th>relative_effective_spread</th>\n",
              "      <td>405</td>\n",
              "    </tr>\n",
              "    <tr>\n",
              "      <th>realized_spread_30s</th>\n",
              "      <td>599</td>\n",
              "    </tr>\n",
              "    <tr>\n",
              "      <th>realized_spread_1m</th>\n",
              "      <td>797</td>\n",
              "    </tr>\n",
              "    <tr>\n",
              "      <th>realized_spread_5m</th>\n",
              "      <td>1370</td>\n",
              "    </tr>\n",
              "    <tr>\n",
              "      <th>realized_spread_10m</th>\n",
              "      <td>1807</td>\n",
              "    </tr>\n",
              "    <tr>\n",
              "      <th>realized_spread_30m</th>\n",
              "      <td>2690</td>\n",
              "    </tr>\n",
              "    <tr>\n",
              "      <th>price_impact_30s</th>\n",
              "      <td>599</td>\n",
              "    </tr>\n",
              "    <tr>\n",
              "      <th>price_impact_1m</th>\n",
              "      <td>797</td>\n",
              "    </tr>\n",
              "    <tr>\n",
              "      <th>price_impact_5m</th>\n",
              "      <td>1370</td>\n",
              "    </tr>\n",
              "    <tr>\n",
              "      <th>price_impact_10m</th>\n",
              "      <td>1807</td>\n",
              "    </tr>\n",
              "    <tr>\n",
              "      <th>price_impact_30m</th>\n",
              "      <td>2690</td>\n",
              "    </tr>\n",
              "    <tr>\n",
              "      <th>illiquid_ratio</th>\n",
              "      <td>1</td>\n",
              "    </tr>\n",
              "  </tbody>\n",
              "</table>\n",
              "</div>"
            ],
            "text/plain": [
              "                              0\n",
              "DATE                          0\n",
              "TIME_M                        0\n",
              "SYM_ROOT                      0\n",
              "SIZE                          0\n",
              "PRICE                         0\n",
              "qouted_spread                 1\n",
              "effective_spread            405\n",
              "midquote                      1\n",
              "d                           405\n",
              "relative_effective_spread   405\n",
              "realized_spread_30s         599\n",
              "realized_spread_1m          797\n",
              "realized_spread_5m         1370\n",
              "realized_spread_10m        1807\n",
              "realized_spread_30m        2690\n",
              "price_impact_30s            599\n",
              "price_impact_1m             797\n",
              "price_impact_5m            1370\n",
              "price_impact_10m           1807\n",
              "price_impact_30m           2690\n",
              "illiquid_ratio                1"
            ]
          },
          "metadata": {
            "tags": []
          },
          "execution_count": 87
        }
      ]
    },
    {
      "cell_type": "code",
      "metadata": {
        "colab": {
          "base_uri": "https://localhost:8080/"
        },
        "id": "OQA97qeXuvBF",
        "outputId": "1bf5fbbf-0d5d-46f7-e7c6-d1206b38f2a6"
      },
      "source": [
        "result.columns"
      ],
      "execution_count": null,
      "outputs": [
        {
          "output_type": "execute_result",
          "data": {
            "text/plain": [
              "Index(['DATE', 'TIME_M', 'SYM_ROOT', 'SIZE', 'PRICE', 'qouted_spread',\n",
              "       'effective_spread', 'midquote', 'd', 'relative_effective_spread',\n",
              "       'realized_spread_30s', 'realized_spread_1m', 'realized_spread_5m',\n",
              "       'realized_spread_10m', 'realized_spread_30m', 'price_impact_30s',\n",
              "       'price_impact_1m', 'price_impact_5m', 'price_impact_10m',\n",
              "       'price_impact_30m', 'illiquid_ratio'],\n",
              "      dtype='object')"
            ]
          },
          "metadata": {
            "tags": []
          },
          "execution_count": 89
        }
      ]
    },
    {
      "cell_type": "code",
      "metadata": {
        "colab": {
          "base_uri": "https://localhost:8080/"
        },
        "id": "4KHG_KqJwgw4",
        "outputId": "43200018-ddf3-4a87-d9e9-4e7e5041182a"
      },
      "source": [
        "delta_30m = pd.Timedelta(1800000000000)\n",
        "time_array = [pd.to_timedelta(delta_30m*19)]\n",
        "for i in range(13):\n",
        "  time_array.append(time_array[i]+delta_30m)\n",
        "\n",
        "cols = ['SIZE', 'PRICE', 'qouted_spread',\n",
        "       'effective_spread', 'midquote', 'relative_effective_spread',\n",
        "       'realized_spread_30s', 'realized_spread_1m', 'realized_spread_5m',\n",
        "       'realized_spread_10m', 'realized_spread_30m', 'price_impact_30s',\n",
        "       'price_impact_1m', 'price_impact_5m', 'price_impact_10m',\n",
        "       'price_impact_30m', 'illiquid_ratio']\n",
        "\n",
        "agg_result = make_daily_agg_vars(time_array, cols, result)"
      ],
      "execution_count": null,
      "outputs": [
        {
          "output_type": "stream",
          "text": [
            "/usr/local/lib/python3.7/dist-packages/pandas/core/indexing.py:670: SettingWithCopyWarning: \n",
            "A value is trying to be set on a copy of a slice from a DataFrame\n",
            "\n",
            "See the caveats in the documentation: https://pandas.pydata.org/pandas-docs/stable/user_guide/indexing.html#returning-a-view-versus-a-copy\n",
            "  iloc._setitem_with_indexer(indexer, value)\n",
            "/usr/local/lib/python3.7/dist-packages/ipykernel_launcher.py:9: UserWarning: Boolean Series key will be reindexed to match DataFrame index.\n",
            "  if __name__ == '__main__':\n"
          ],
          "name": "stderr"
        }
      ]
    },
    {
      "cell_type": "code",
      "metadata": {
        "colab": {
          "base_uri": "https://localhost:8080/"
        },
        "id": "z7HTt3QGZRPl",
        "outputId": "ce2ab7db-4df9-4b46-d9b5-7e3536a07b44"
      },
      "source": [
        "agg_result"
      ],
      "execution_count": null,
      "outputs": [
        {
          "output_type": "execute_result",
          "data": {
            "text/html": [
              "<div>\n",
              "<style scoped>\n",
              "    .dataframe tbody tr th:only-of-type {\n",
              "        vertical-align: middle;\n",
              "    }\n",
              "\n",
              "    .dataframe tbody tr th {\n",
              "        vertical-align: top;\n",
              "    }\n",
              "\n",
              "    .dataframe thead th {\n",
              "        text-align: right;\n",
              "    }\n",
              "</style>\n",
              "<table border=\"1\" class=\"dataframe\">\n",
              "  <thead>\n",
              "    <tr style=\"text-align: right;\">\n",
              "      <th></th>\n",
              "      <th>time</th>\n",
              "      <th>SIZE</th>\n",
              "      <th>PRICE</th>\n",
              "      <th>qouted_spread</th>\n",
              "      <th>effective_spread</th>\n",
              "      <th>midquote</th>\n",
              "      <th>d</th>\n",
              "      <th>relative_effective_spread</th>\n",
              "      <th>realized_spread_30s</th>\n",
              "      <th>realized_spread_1m</th>\n",
              "      <th>realized_spread_5m</th>\n",
              "      <th>realized_spread_10m</th>\n",
              "      <th>realized_spread_30m</th>\n",
              "      <th>price_impact_30s</th>\n",
              "      <th>price_impact_1m</th>\n",
              "      <th>price_impact_5m</th>\n",
              "      <th>price_impact_10m</th>\n",
              "      <th>price_impact_30m</th>\n",
              "      <th>illiquid_ratio</th>\n",
              "    </tr>\n",
              "  </thead>\n",
              "  <tbody>\n",
              "    <tr>\n",
              "      <th>0</th>\n",
              "      <td>0</td>\n",
              "      <td>NaN</td>\n",
              "      <td>NaN</td>\n",
              "      <td>NaN</td>\n",
              "      <td>NaN</td>\n",
              "      <td>NaN</td>\n",
              "      <td>NaN</td>\n",
              "      <td>NaN</td>\n",
              "      <td>NaN</td>\n",
              "      <td>NaN</td>\n",
              "      <td>NaN</td>\n",
              "      <td>NaN</td>\n",
              "      <td>NaN</td>\n",
              "      <td>NaN</td>\n",
              "      <td>NaN</td>\n",
              "      <td>NaN</td>\n",
              "      <td>NaN</td>\n",
              "      <td>NaN</td>\n",
              "      <td>NaN</td>\n",
              "    </tr>\n",
              "    <tr>\n",
              "      <th>1</th>\n",
              "      <td>1</td>\n",
              "      <td>91.986014</td>\n",
              "      <td>249.814689</td>\n",
              "      <td>0.003434</td>\n",
              "      <td>0.533070</td>\n",
              "      <td>249.767909</td>\n",
              "      <td>0.264654</td>\n",
              "      <td>0.002133</td>\n",
              "      <td>0.263425</td>\n",
              "      <td>0.032830</td>\n",
              "      <td>0.103852</td>\n",
              "      <td>0.261995</td>\n",
              "      <td>0.359411</td>\n",
              "      <td>0.269645</td>\n",
              "      <td>0.500240</td>\n",
              "      <td>0.429218</td>\n",
              "      <td>0.271075</td>\n",
              "      <td>0.173659</td>\n",
              "      <td>5.359491e-08</td>\n",
              "    </tr>\n",
              "    <tr>\n",
              "      <th>2</th>\n",
              "      <td>2</td>\n",
              "      <td>72.335729</td>\n",
              "      <td>249.219594</td>\n",
              "      <td>0.004111</td>\n",
              "      <td>0.691692</td>\n",
              "      <td>249.243075</td>\n",
              "      <td>0.112500</td>\n",
              "      <td>0.002771</td>\n",
              "      <td>0.022650</td>\n",
              "      <td>-0.050475</td>\n",
              "      <td>-0.196944</td>\n",
              "      <td>0.129025</td>\n",
              "      <td>-0.148360</td>\n",
              "      <td>0.669042</td>\n",
              "      <td>0.742167</td>\n",
              "      <td>0.888635</td>\n",
              "      <td>0.562667</td>\n",
              "      <td>0.840052</td>\n",
              "      <td>4.144661e-08</td>\n",
              "    </tr>\n",
              "    <tr>\n",
              "      <th>3</th>\n",
              "      <td>3</td>\n",
              "      <td>64.538202</td>\n",
              "      <td>249.862045</td>\n",
              "      <td>0.005435</td>\n",
              "      <td>1.193769</td>\n",
              "      <td>250.212225</td>\n",
              "      <td>0.046404</td>\n",
              "      <td>0.004716</td>\n",
              "      <td>-0.163980</td>\n",
              "      <td>-0.107019</td>\n",
              "      <td>0.048282</td>\n",
              "      <td>0.012516</td>\n",
              "      <td>-0.190627</td>\n",
              "      <td>1.357749</td>\n",
              "      <td>1.300789</td>\n",
              "      <td>1.145487</td>\n",
              "      <td>1.181253</td>\n",
              "      <td>1.384397</td>\n",
              "      <td>4.727875e-08</td>\n",
              "    </tr>\n",
              "    <tr>\n",
              "      <th>4</th>\n",
              "      <td>4</td>\n",
              "      <td>68.117718</td>\n",
              "      <td>249.923107</td>\n",
              "      <td>0.006206</td>\n",
              "      <td>1.265883</td>\n",
              "      <td>250.270843</td>\n",
              "      <td>-0.027569</td>\n",
              "      <td>0.005003</td>\n",
              "      <td>0.028891</td>\n",
              "      <td>0.430545</td>\n",
              "      <td>-0.494154</td>\n",
              "      <td>-0.215558</td>\n",
              "      <td>-0.111949</td>\n",
              "      <td>1.236992</td>\n",
              "      <td>0.835338</td>\n",
              "      <td>1.760038</td>\n",
              "      <td>1.481441</td>\n",
              "      <td>1.377832</td>\n",
              "      <td>6.450489e-08</td>\n",
              "    </tr>\n",
              "    <tr>\n",
              "      <th>5</th>\n",
              "      <td>5</td>\n",
              "      <td>83.954657</td>\n",
              "      <td>249.773461</td>\n",
              "      <td>0.005877</td>\n",
              "      <td>1.327515</td>\n",
              "      <td>250.213738</td>\n",
              "      <td>-0.008895</td>\n",
              "      <td>0.005235</td>\n",
              "      <td>-0.159626</td>\n",
              "      <td>-0.075331</td>\n",
              "      <td>-0.125509</td>\n",
              "      <td>-0.045725</td>\n",
              "      <td>-0.004823</td>\n",
              "      <td>1.487141</td>\n",
              "      <td>1.402846</td>\n",
              "      <td>1.453024</td>\n",
              "      <td>1.373240</td>\n",
              "      <td>1.332338</td>\n",
              "      <td>5.912058e-08</td>\n",
              "    </tr>\n",
              "    <tr>\n",
              "      <th>6</th>\n",
              "      <td>6</td>\n",
              "      <td>66.227704</td>\n",
              "      <td>249.442984</td>\n",
              "      <td>0.006629</td>\n",
              "      <td>1.338793</td>\n",
              "      <td>249.658643</td>\n",
              "      <td>-0.007782</td>\n",
              "      <td>0.005318</td>\n",
              "      <td>-0.048055</td>\n",
              "      <td>-0.219261</td>\n",
              "      <td>0.229260</td>\n",
              "      <td>0.170933</td>\n",
              "      <td>0.056926</td>\n",
              "      <td>1.386848</td>\n",
              "      <td>1.558054</td>\n",
              "      <td>1.109533</td>\n",
              "      <td>1.167860</td>\n",
              "      <td>1.281868</td>\n",
              "      <td>6.284800e-08</td>\n",
              "    </tr>\n",
              "    <tr>\n",
              "      <th>7</th>\n",
              "      <td>7</td>\n",
              "      <td>53.915217</td>\n",
              "      <td>249.427075</td>\n",
              "      <td>0.006099</td>\n",
              "      <td>1.377068</td>\n",
              "      <td>249.920967</td>\n",
              "      <td>0.104213</td>\n",
              "      <td>0.005431</td>\n",
              "      <td>-0.236724</td>\n",
              "      <td>0.077467</td>\n",
              "      <td>0.267179</td>\n",
              "      <td>0.065405</td>\n",
              "      <td>0.162788</td>\n",
              "      <td>1.613792</td>\n",
              "      <td>1.299601</td>\n",
              "      <td>1.109889</td>\n",
              "      <td>1.311663</td>\n",
              "      <td>1.214279</td>\n",
              "      <td>5.984043e-08</td>\n",
              "    </tr>\n",
              "    <tr>\n",
              "      <th>8</th>\n",
              "      <td>8</td>\n",
              "      <td>93.124805</td>\n",
              "      <td>249.012242</td>\n",
              "      <td>0.005636</td>\n",
              "      <td>1.122887</td>\n",
              "      <td>249.333666</td>\n",
              "      <td>-0.040128</td>\n",
              "      <td>0.004449</td>\n",
              "      <td>0.060126</td>\n",
              "      <td>0.156675</td>\n",
              "      <td>0.061635</td>\n",
              "      <td>0.133721</td>\n",
              "      <td>-0.151367</td>\n",
              "      <td>1.062761</td>\n",
              "      <td>0.966212</td>\n",
              "      <td>1.061252</td>\n",
              "      <td>0.989165</td>\n",
              "      <td>1.274254</td>\n",
              "      <td>4.417366e-08</td>\n",
              "    </tr>\n",
              "    <tr>\n",
              "      <th>9</th>\n",
              "      <td>9</td>\n",
              "      <td>62.971893</td>\n",
              "      <td>249.468270</td>\n",
              "      <td>0.005918</td>\n",
              "      <td>1.207017</td>\n",
              "      <td>249.936398</td>\n",
              "      <td>-0.075969</td>\n",
              "      <td>0.004771</td>\n",
              "      <td>-0.028286</td>\n",
              "      <td>0.194862</td>\n",
              "      <td>0.321885</td>\n",
              "      <td>0.016924</td>\n",
              "      <td>0.134412</td>\n",
              "      <td>1.235302</td>\n",
              "      <td>1.012155</td>\n",
              "      <td>0.885132</td>\n",
              "      <td>1.190093</td>\n",
              "      <td>1.072605</td>\n",
              "      <td>5.181795e-08</td>\n",
              "    </tr>\n",
              "    <tr>\n",
              "      <th>10</th>\n",
              "      <td>10</td>\n",
              "      <td>63.821867</td>\n",
              "      <td>250.015319</td>\n",
              "      <td>0.005769</td>\n",
              "      <td>1.255568</td>\n",
              "      <td>250.392617</td>\n",
              "      <td>-0.058376</td>\n",
              "      <td>0.004965</td>\n",
              "      <td>0.039248</td>\n",
              "      <td>0.092611</td>\n",
              "      <td>-0.017681</td>\n",
              "      <td>-0.003138</td>\n",
              "      <td>-0.203582</td>\n",
              "      <td>1.216320</td>\n",
              "      <td>1.162957</td>\n",
              "      <td>1.273249</td>\n",
              "      <td>1.258706</td>\n",
              "      <td>1.459150</td>\n",
              "      <td>3.561836e-08</td>\n",
              "    </tr>\n",
              "    <tr>\n",
              "      <th>11</th>\n",
              "      <td>11</td>\n",
              "      <td>51.850900</td>\n",
              "      <td>249.901034</td>\n",
              "      <td>0.008015</td>\n",
              "      <td>1.531346</td>\n",
              "      <td>250.264826</td>\n",
              "      <td>-0.199472</td>\n",
              "      <td>0.006081</td>\n",
              "      <td>0.533512</td>\n",
              "      <td>0.369774</td>\n",
              "      <td>-0.082644</td>\n",
              "      <td>0.690315</td>\n",
              "      <td>0.148585</td>\n",
              "      <td>0.997834</td>\n",
              "      <td>1.161572</td>\n",
              "      <td>1.613989</td>\n",
              "      <td>0.841030</td>\n",
              "      <td>1.382761</td>\n",
              "      <td>6.286091e-08</td>\n",
              "    </tr>\n",
              "    <tr>\n",
              "      <th>12</th>\n",
              "      <td>12</td>\n",
              "      <td>66.944112</td>\n",
              "      <td>249.811315</td>\n",
              "      <td>0.004380</td>\n",
              "      <td>0.806989</td>\n",
              "      <td>249.750309</td>\n",
              "      <td>0.027719</td>\n",
              "      <td>0.003237</td>\n",
              "      <td>0.274164</td>\n",
              "      <td>0.077884</td>\n",
              "      <td>-0.021209</td>\n",
              "      <td>0.045774</td>\n",
              "      <td>0.038354</td>\n",
              "      <td>0.532825</td>\n",
              "      <td>0.729104</td>\n",
              "      <td>0.828198</td>\n",
              "      <td>0.761215</td>\n",
              "      <td>0.768635</td>\n",
              "      <td>2.731115e-08</td>\n",
              "    </tr>\n",
              "    <tr>\n",
              "      <th>13</th>\n",
              "      <td>13</td>\n",
              "      <td>73.394484</td>\n",
              "      <td>250.212438</td>\n",
              "      <td>0.002508</td>\n",
              "      <td>0.476564</td>\n",
              "      <td>250.287994</td>\n",
              "      <td>-0.037199</td>\n",
              "      <td>0.001896</td>\n",
              "      <td>0.037111</td>\n",
              "      <td>-0.048020</td>\n",
              "      <td>-0.033541</td>\n",
              "      <td>-0.004822</td>\n",
              "      <td>NaN</td>\n",
              "      <td>0.465088</td>\n",
              "      <td>0.460734</td>\n",
              "      <td>0.390273</td>\n",
              "      <td>0.371257</td>\n",
              "      <td>NaN</td>\n",
              "      <td>1.335663e-08</td>\n",
              "    </tr>\n",
              "  </tbody>\n",
              "</table>\n",
              "</div>"
            ],
            "text/plain": [
              "    time       SIZE  ...  price_impact_30m  illiquid_ratio\n",
              "0      0        NaN  ...               NaN             NaN\n",
              "1      1  91.986014  ...          0.173659    5.359491e-08\n",
              "2      2  72.335729  ...          0.840052    4.144661e-08\n",
              "3      3  64.538202  ...          1.384397    4.727875e-08\n",
              "4      4  68.117718  ...          1.377832    6.450489e-08\n",
              "5      5  83.954657  ...          1.332338    5.912058e-08\n",
              "6      6  66.227704  ...          1.281868    6.284800e-08\n",
              "7      7  53.915217  ...          1.214279    5.984043e-08\n",
              "8      8  93.124805  ...          1.274254    4.417366e-08\n",
              "9      9  62.971893  ...          1.072605    5.181795e-08\n",
              "10    10  63.821867  ...          1.459150    3.561836e-08\n",
              "11    11  51.850900  ...          1.382761    6.286091e-08\n",
              "12    12  66.944112  ...          0.768635    2.731115e-08\n",
              "13    13  73.394484  ...               NaN    1.335663e-08\n",
              "\n",
              "[14 rows x 19 columns]"
            ]
          },
          "metadata": {
            "tags": []
          },
          "execution_count": 129
        }
      ]
    },
    {
      "cell_type": "code",
      "metadata": {
        "colab": {
          "base_uri": "https://localhost:8080/"
        },
        "id": "mS6yx5O6IZAV",
        "outputId": "2bab7422-cc18-4712-9fa6-9ac3f7e289be"
      },
      "source": [
        "plt.plot(agg_result.realized_spread_30s)"
      ],
      "execution_count": null,
      "outputs": [
        {
          "output_type": "execute_result",
          "data": {
            "text/plain": [
              "[<matplotlib.lines.Line2D at 0x7ff751d28cd0>]"
            ]
          },
          "metadata": {
            "tags": []
          },
          "execution_count": 139
        },
        {
          "output_type": "display_data",
          "data": {
            "image/png": "[encoded data removed]",
            "text/plain": [
              "<Figure size 432x288 with 1 Axes>"
            ]
          },
          "metadata": {
            "tags": [],
            "needs_background": "light"
          }
        }
      ]
    },
    {
      "cell_type": "code",
      "metadata": {
        "colab": {
          "base_uri": "https://localhost:8080/"
        },
        "id": "GGRAPpNshiVs",
        "outputId": "a65d705e-2060-455b-d193-a9397a9c8892"
      },
      "source": [
        "# Missings report\n",
        "result.replace([np.inf, -np.inf], np.nan)\n",
        "Nulls = result.isnull().sum()\n",
        "plt.figure(figsize=(20,8))\n",
        "plt.xticks(rotation=\"vertical\")\n",
        "plt.bar(Nulls.index, 100*Nulls.values/len(result.index))\n",
        "plt.ylabel(\"% of missing data\")\n",
        "print(result.shape)"
      ],
      "execution_count": null,
      "outputs": [
        {
          "output_type": "stream",
          "text": [
            "(11939, 21)\n"
          ],
          "name": "stdout"
        },
        {
          "output_type": "display_data",
          "data": {
            "image/png": "[encoded data removed]",
            "text/plain": [
              "<Figure size 1440x576 with 1 Axes>"
            ]
          },
          "metadata": {
            "tags": [],
            "needs_background": "light"
          }
        }
      ]
    },
    {
      "cell_type": "code",
      "metadata": {
        "colab": {
          "base_uri": "https://localhost:8080/"
        },
        "id": "YvQYGM16ly2V",
        "outputId": "a562c7d9-7d23-480a-ffb9-f27081b1ef46"
      },
      "source": [
        "import matplotlib.pyplot as plt\n",
        "import numpy as np\n",
        "\n",
        "counts, bins = np.histogram(result.realized_spread_30s[result.realized_spread_30s.notna()])\n",
        "plt.hist(bins[:-1], bins, weights=counts)"
      ],
      "execution_count": null,
      "outputs": [
        {
          "output_type": "execute_result",
          "data": {
            "text/plain": [
              "(array([8.400e+01, 2.430e+02, 2.240e+02, 3.000e+00, 9.019e+03, 1.154e+03,\n",
              "        8.100e+01, 1.680e+02, 3.340e+02, 3.000e+01]),\n",
              " array([-13.3  , -10.578,  -7.856,  -5.134,  -2.412,   0.31 ,   3.032,\n",
              "          5.754,   8.476,  11.198,  13.92 ]),\n",
              " <a list of 10 Patch objects>)"
            ]
          },
          "metadata": {
            "tags": []
          },
          "execution_count": 43
        },
        {
          "output_type": "display_data",
          "data": {
            "image/png": "[encoded data removed]",
            "text/plain": [
              "<Figure size 432x288 with 1 Axes>"
            ]
          },
          "metadata": {
            "tags": [],
            "needs_background": "light"
          }
        }
      ]
    },
    {
      "cell_type": "code",
      "metadata": {
        "colab": {
          "base_uri": "https://localhost:8080/"
        },
        "id": "cQFXq87BiNz9",
        "outputId": "16db05a1-cf3e-483d-9af7-e373ebc8355d"
      },
      "source": [
        "import statsmodels.api as sm\n",
        "cycle, trend = sm.tsa.filters.hpfilter(result.realized_spread_30s[result.realized_spread_30s.notna()], 500)\n",
        "plt.plot(trend)"
      ],
      "execution_count": null,
      "outputs": [
        {
          "output_type": "execute_result",
          "data": {
            "text/plain": [
              "[<matplotlib.lines.Line2D at 0x7ff75b200310>]"
            ]
          },
          "metadata": {
            "tags": []
          },
          "execution_count": 59
        },
        {
          "output_type": "display_data",
          "data": {
            "image/png": "[encoded data removed]",
            "text/plain": [
              "<Figure size 432x288 with 1 Axes>"
            ]
          },
          "metadata": {
            "tags": [],
            "needs_background": "light"
          }
        }
      ]
    },
    {
      "cell_type": "code",
      "metadata": {
        "colab": {
          "base_uri": "https://localhost:8080/"
        },
        "id": "aqOlLTtxec9X",
        "outputId": "14b22b8e-b3b4-43e1-b28c-c8841ddac253"
      },
      "source": [
        "import matplotlib.pyplot as plt\n",
        "import numpy as np\n",
        "\n",
        "counts, bins = np.histogram(result.midquote[result.midquote.notna()])\n",
        "plt.hist(bins[:-1], bins, weights=counts)"
      ],
      "execution_count": null,
      "outputs": [
        {
          "output_type": "execute_result",
          "data": {
            "text/plain": [
              "(array([  15.,   77.,  161.,   33., 6254., 4678.,   25.,  105.,  394.,\n",
              "         196.]),\n",
              " array([243.325, 244.633, 245.941, 247.249, 248.557, 249.865, 251.173,\n",
              "        252.481, 253.789, 255.097, 256.405]),\n",
              " <a list of 10 Patch objects>)"
            ]
          },
          "metadata": {
            "tags": []
          },
          "execution_count": 33
        },
        {
          "output_type": "display_data",
          "data": {
            "image/png": "[encoded data removed]",
            "text/plain": [
              "<Figure size 432x288 with 1 Axes>"
            ]
          },
          "metadata": {
            "tags": [],
            "needs_background": "light"
          }
        }
      ]
    },
    {
      "cell_type": "code",
      "metadata": {
        "colab": {
          "base_uri": "https://localhost:8080/"
        },
        "id": "ohs31AbVkskv",
        "outputId": "62cea47b-1115-479b-831b-8523e809ca1b"
      },
      "source": [
        "import statsmodels.api as sm\n",
        "cycle, trend = sm.tsa.filters.hpfilter(result.midquote[result.midquote.notna()], 5000)\n",
        "plt.plot(trend)"
      ],
      "execution_count": null,
      "outputs": [
        {
          "output_type": "execute_result",
          "data": {
            "text/plain": [
              "[<matplotlib.lines.Line2D at 0x7ff758645250>]"
            ]
          },
          "metadata": {
            "tags": []
          },
          "execution_count": 65
        },
        {
          "output_type": "display_data",
          "data": {
            "image/png": "[encoded data removed]",
            "text/plain": [
              "<Figure size 432x288 with 1 Axes>"
            ]
          },
          "metadata": {
            "tags": [],
            "needs_background": "light"
          }
        }
      ]
    },
    {
      "cell_type": "code",
      "metadata": {
        "colab": {
          "base_uri": "https://localhost:8080/"
        },
        "id": "dvBkhiHWecxc",
        "outputId": "eb0e8082-5bb5-4313-a632-12c3cf5afaa0"
      },
      "source": [
        "\n",
        "counts, bins = np.histogram(result.effective_spread[result.effective_spread.notna()])\n",
        "plt.hist(bins[:-1], bins, weights=counts)"
      ],
      "execution_count": null,
      "outputs": [
        {
          "output_type": "execute_result",
          "data": {
            "text/plain": [
              "(array([1.000e+00, 0.000e+00, 2.000e+00, 0.000e+00, 9.082e+03, 1.491e+03,\n",
              "        1.240e+02, 2.020e+02, 4.720e+02, 1.600e+02]),\n",
              " array([-12.57 ,  -9.931,  -7.292,  -4.653,  -2.014,   0.625,   3.264,\n",
              "          5.903,   8.542,  11.181,  13.82 ]),\n",
              " <a list of 10 Patch objects>)"
            ]
          },
          "metadata": {
            "tags": []
          },
          "execution_count": 35
        },
        {
          "output_type": "display_data",
          "data": {
            "image/png": "[encoded data removed]",
            "text/plain": [
              "<Figure size 432x288 with 1 Axes>"
            ]
          },
          "metadata": {
            "tags": [],
            "needs_background": "light"
          }
        }
      ]
    },
    {
      "cell_type": "code",
      "metadata": {
        "colab": {
          "base_uri": "https://localhost:8080/"
        },
        "id": "GKDQ2NpBk42D",
        "outputId": "a2cd031d-8546-4716-c555-b712f8cabb74"
      },
      "source": [
        "import statsmodels.api as sm\n",
        "cycle, trend = sm.tsa.filters.hpfilter(result.effective_spread[result.effective_spread.notna()], 10000)\n",
        "plt.plot(trend)"
      ],
      "execution_count": null,
      "outputs": [
        {
          "output_type": "execute_result",
          "data": {
            "text/plain": [
              "[<matplotlib.lines.Line2D at 0x7ff75857d9d0>]"
            ]
          },
          "metadata": {
            "tags": []
          },
          "execution_count": 68
        },
        {
          "output_type": "display_data",
          "data": {
            "image/png": "[encoded data removed]",
            "text/plain": [
              "<Figure size 432x288 with 1 Axes>"
            ]
          },
          "metadata": {
            "tags": [],
            "needs_background": "light"
          }
        }
      ]
    },
    {
      "cell_type": "code",
      "metadata": {
        "id": "HBVsWXhcqhea"
      },
      "source": [
        ""
      ],
      "execution_count": null,
      "outputs": []
    },
    {
      "cell_type": "code",
      "metadata": {
        "colab": {
          "base_uri": "https://localhost:8080/"
        },
        "id": "GRVr0zEqecC0",
        "outputId": "f2870cfb-7c18-4e9d-ab97-fbf4be6313e3"
      },
      "source": [
        "counts, bins = np.histogram(result.d[result.d.notna()])\n",
        "plt.hist(bins[:-1], bins, weights=counts)"
      ],
      "execution_count": null,
      "outputs": [
        {
          "output_type": "execute_result",
          "data": {
            "text/plain": [
              "(array([5702.,    0.,    0.,    0.,    0.,    0.,    0.,    0.,    0.,\n",
              "        5832.]),\n",
              " array([-1. , -0.8, -0.6, -0.4, -0.2,  0. ,  0.2,  0.4,  0.6,  0.8,  1. ]),\n",
              " <a list of 10 Patch objects>)"
            ]
          },
          "metadata": {
            "tags": []
          },
          "execution_count": 36
        },
        {
          "output_type": "display_data",
          "data": {
            "image/png": "[encoded data removed]",
            "text/plain": [
              "<Figure size 432x288 with 1 Axes>"
            ]
          },
          "metadata": {
            "tags": [],
            "needs_background": "light"
          }
        }
      ]
    },
    {
      "cell_type": "code",
      "metadata": {
        "colab": {
          "base_uri": "https://localhost:8080/"
        },
        "id": "g9UZvCvXlI2Y",
        "outputId": "356228be-c588-4477-c61b-223989095140"
      },
      "source": [
        "import statsmodels.api as sm\n",
        "cycle, trend = sm.tsa.filters.hpfilter(result.d[result.d.notna()], 10000)\n",
        "plt.plot(trend)"
      ],
      "execution_count": null,
      "outputs": [
        {
          "output_type": "execute_result",
          "data": {
            "text/plain": [
              "{'boxes': [<matplotlib.lines.Line2D at 0x7ff75ad211d0>],\n",
              " 'caps': [<matplotlib.lines.Line2D at 0x7ff75cff3c50>,\n",
              "  <matplotlib.lines.Line2D at 0x7ff75a2f9710>],\n",
              " 'fliers': [<matplotlib.lines.Line2D at 0x7ff75da2e150>],\n",
              " 'means': [],\n",
              " 'medians': [<matplotlib.lines.Line2D at 0x7ff75b1d5bd0>],\n",
              " 'whiskers': [<matplotlib.lines.Line2D at 0x7ff75bc1f190>,\n",
              "  <matplotlib.lines.Line2D at 0x7ff75d4cfed0>]}"
            ]
          },
          "metadata": {
            "tags": []
          },
          "execution_count": 70
        },
        {
          "output_type": "display_data",
          "data": {
            "image/png": "[encoded data removed]",
            "text/plain": [
              "<Figure size 432x288 with 1 Axes>"
            ]
          },
          "metadata": {
            "tags": [],
            "needs_background": "light"
          }
        }
      ]
    },
    {
      "cell_type": "code",
      "metadata": {
        "colab": {
          "base_uri": "https://localhost:8080/"
        },
        "id": "ufXGScQjer3c",
        "outputId": "573672b1-35c8-4624-94ef-e091dbe44977"
      },
      "source": [
        "counts, bins = np.histogram(result.relative_effective_spread[result.relative_effective_spread.notna()])\n",
        "plt.hist(bins[:-1], bins, weights=counts)"
      ],
      "execution_count": null,
      "outputs": [
        {
          "output_type": "execute_result",
          "data": {
            "text/plain": [
              "(array([1.000e+00, 0.000e+00, 2.000e+00, 0.000e+00, 9.080e+03, 1.493e+03,\n",
              "        1.040e+02, 2.160e+02, 4.720e+02, 1.660e+02]),\n",
              " array([-0.04906802, -0.03875719, -0.02844635, -0.01813552, -0.00782469,\n",
              "         0.00248615,  0.01279698,  0.02310781,  0.03341865,  0.04372948,\n",
              "         0.05404032]),\n",
              " <a list of 10 Patch objects>)"
            ]
          },
          "metadata": {
            "tags": []
          },
          "execution_count": 37
        },
        {
          "output_type": "display_data",
          "data": {
            "image/png": "[encoded data removed]",
            "text/plain": [
              "<Figure size 432x288 with 1 Axes>"
            ]
          },
          "metadata": {
            "tags": [],
            "needs_background": "light"
          }
        }
      ]
    },
    {
      "cell_type": "code",
      "metadata": {
        "id": "4Rd1KZhSp8gV"
      },
      "source": [
        "result.d[result.d.notna()]"
      ],
      "execution_count": null,
      "outputs": []
    },
    {
      "cell_type": "code",
      "metadata": {
        "colab": {
          "base_uri": "https://localhost:8080/"
        },
        "id": "_yq3cYBhevNF",
        "outputId": "63481b3a-748f-4ea2-b7d5-9eda0e6af000"
      },
      "source": [
        "\n",
        "\n",
        "counts, bins = np.histogram(result.illiquid_ratio[result.illiquid_ratio.notna()])\n",
        "plt.hist(bins[:-1], bins, weights=counts)"
      ],
      "execution_count": null,
      "outputs": [
        {
          "output_type": "execute_result",
          "data": {
            "text/plain": [
              "(array([1.1699e+04, 1.4600e+02, 6.2000e+01, 1.8000e+01, 6.0000e+00,\n",
              "        4.0000e+00, 2.0000e+00, 0.0000e+00, 0.0000e+00, 1.0000e+00]),\n",
              " array([0.00000000e+00, 5.50557207e-07, 1.10111441e-06, 1.65167162e-06,\n",
              "        2.20222883e-06, 2.75278604e-06, 3.30334324e-06, 3.85390045e-06,\n",
              "        4.40445766e-06, 4.95501487e-06, 5.50557207e-06]),\n",
              " <a list of 10 Patch objects>)"
            ]
          },
          "metadata": {
            "tags": []
          },
          "execution_count": 38
        },
        {
          "output_type": "display_data",
          "data": {
            "image/png": "[encoded data removed]",
            "text/plain": [
              "<Figure size 432x288 with 1 Axes>"
            ]
          },
          "metadata": {
            "tags": [],
            "needs_background": "light"
          }
        }
      ]
    },
    {
      "cell_type": "code",
      "metadata": {
        "colab": {
          "base_uri": "https://localhost:8080/"
        },
        "id": "3LXU8CaIjeZ6",
        "outputId": "43f74e5e-b7bd-454d-8b73-f8480a78ca34"
      },
      "source": [
        "for i in range(10000000000):\n",
        "  pass\n",
        "print('finished')"
      ],
      "execution_count": null,
      "outputs": [
        {
          "output_type": "stream",
          "text": [
            "finished\n"
          ],
          "name": "stdout"
        }
      ]
    },
    {
      "cell_type": "code",
      "metadata": {
        "colab": {
          "base_uri": "https://localhost:8080/"
        },
        "id": "QCqKS4EX-gIr",
        "outputId": "92b56434-0d26-4063-9524-1f2348d468de"
      },
      "source": [
        "df.columns"
      ],
      "execution_count": null,
      "outputs": [
        {
          "output_type": "execute_result",
          "data": {
            "text/plain": [
              "Index(['DATE', 'TIME_M', 'BID', 'BIDSIZ', 'ASK', 'ASKSIZ', 'SYM_ROOT',\n",
              "       'SYM_SUFFIX'],\n",
              "      dtype='object')"
            ]
          },
          "metadata": {
            "tags": []
          },
          "execution_count": 10
        }
      ]
    },
    {
      "cell_type": "code",
      "metadata": {
        "colab": {
          "base_uri": "https://localhost:8080/"
        },
        "id": "I3mzDIcCUgjT",
        "outputId": "9dfe8026-56b9-449f-9c50-82968fe5d7b7"
      },
      "source": [
        "df.isnull().value_counts()"
      ],
      "execution_count": null,
      "outputs": [
        {
          "output_type": "execute_result",
          "data": {
            "text/plain": [
              "DATE   TIME_M  BID    BIDSIZ  ASK    ASKSIZ  SYM_ROOT  SYM_SUFFIX\n",
              "False  False   False  False   False  False   False     True          24804266\n",
              "dtype: int64"
            ]
          },
          "metadata": {
            "tags": []
          },
          "execution_count": 11
        }
      ]
    },
    {
      "cell_type": "code",
      "metadata": {
        "colab": {
          "base_uri": "https://localhost:8080/",
          "height": 391
        },
        "id": "yJPI-8QBVhYX",
        "outputId": "ff55ea16-c474-446c-8180-c416ac66e81f"
      },
      "source": [
        "df"
      ],
      "execution_count": null,
      "outputs": [
        {
          "output_type": "execute_result",
          "data": {
            "text/html": [
              "<div>\n",
              "<style scoped>\n",
              "    .dataframe tbody tr th:only-of-type {\n",
              "        vertical-align: middle;\n",
              "    }\n",
              "\n",
              "    .dataframe tbody tr th {\n",
              "        vertical-align: top;\n",
              "    }\n",
              "\n",
              "    .dataframe thead th {\n",
              "        text-align: right;\n",
              "    }\n",
              "</style>\n",
              "<table border=\"1\" class=\"dataframe\">\n",
              "  <thead>\n",
              "    <tr style=\"text-align: right;\">\n",
              "      <th></th>\n",
              "      <th>DATE</th>\n",
              "      <th>TIME_M</th>\n",
              "      <th>BID</th>\n",
              "      <th>BIDSIZ</th>\n",
              "      <th>ASK</th>\n",
              "      <th>ASKSIZ</th>\n",
              "      <th>SYM_ROOT</th>\n",
              "      <th>SYM_SUFFIX</th>\n",
              "    </tr>\n",
              "  </thead>\n",
              "  <tbody>\n",
              "    <tr>\n",
              "      <th>0</th>\n",
              "      <td>20190701</td>\n",
              "      <td>4:00:00.107346963</td>\n",
              "      <td>1450.00</td>\n",
              "      <td>1</td>\n",
              "      <td>0.00</td>\n",
              "      <td>0</td>\n",
              "      <td>AMZN</td>\n",
              "      <td>NaN</td>\n",
              "    </tr>\n",
              "    <tr>\n",
              "      <th>1</th>\n",
              "      <td>20190701</td>\n",
              "      <td>4:00:00.107347160</td>\n",
              "      <td>1450.00</td>\n",
              "      <td>2</td>\n",
              "      <td>0.00</td>\n",
              "      <td>0</td>\n",
              "      <td>AMZN</td>\n",
              "      <td>NaN</td>\n",
              "    </tr>\n",
              "    <tr>\n",
              "      <th>2</th>\n",
              "      <td>20190701</td>\n",
              "      <td>4:00:00.107522947</td>\n",
              "      <td>1450.00</td>\n",
              "      <td>2</td>\n",
              "      <td>1931.00</td>\n",
              "      <td>2</td>\n",
              "      <td>AMZN</td>\n",
              "      <td>NaN</td>\n",
              "    </tr>\n",
              "    <tr>\n",
              "      <th>3</th>\n",
              "      <td>20190701</td>\n",
              "      <td>4:00:00.107633493</td>\n",
              "      <td>1716.02</td>\n",
              "      <td>1</td>\n",
              "      <td>1931.00</td>\n",
              "      <td>2</td>\n",
              "      <td>AMZN</td>\n",
              "      <td>NaN</td>\n",
              "    </tr>\n",
              "    <tr>\n",
              "      <th>4</th>\n",
              "      <td>20190701</td>\n",
              "      <td>4:00:00.107633683</td>\n",
              "      <td>1801.00</td>\n",
              "      <td>1</td>\n",
              "      <td>1931.00</td>\n",
              "      <td>2</td>\n",
              "      <td>AMZN</td>\n",
              "      <td>NaN</td>\n",
              "    </tr>\n",
              "    <tr>\n",
              "      <th>...</th>\n",
              "      <td>...</td>\n",
              "      <td>...</td>\n",
              "      <td>...</td>\n",
              "      <td>...</td>\n",
              "      <td>...</td>\n",
              "      <td>...</td>\n",
              "      <td>...</td>\n",
              "      <td>...</td>\n",
              "    </tr>\n",
              "    <tr>\n",
              "      <th>7142091</th>\n",
              "      <td>20190930</td>\n",
              "      <td>19:58:34.715776245</td>\n",
              "      <td>1737.10</td>\n",
              "      <td>1</td>\n",
              "      <td>1739.08</td>\n",
              "      <td>1</td>\n",
              "      <td>AMZN</td>\n",
              "      <td>NaN</td>\n",
              "    </tr>\n",
              "    <tr>\n",
              "      <th>7142092</th>\n",
              "      <td>20190930</td>\n",
              "      <td>19:59:22.176415296</td>\n",
              "      <td>1737.40</td>\n",
              "      <td>5</td>\n",
              "      <td>1738.75</td>\n",
              "      <td>1</td>\n",
              "      <td>AMZN</td>\n",
              "      <td>NaN</td>\n",
              "    </tr>\n",
              "    <tr>\n",
              "      <th>7142093</th>\n",
              "      <td>20190930</td>\n",
              "      <td>19:59:26.790716125</td>\n",
              "      <td>1737.53</td>\n",
              "      <td>1</td>\n",
              "      <td>1738.75</td>\n",
              "      <td>1</td>\n",
              "      <td>AMZN</td>\n",
              "      <td>NaN</td>\n",
              "    </tr>\n",
              "    <tr>\n",
              "      <th>7142094</th>\n",
              "      <td>20190930</td>\n",
              "      <td>19:59:49.691360960</td>\n",
              "      <td>1736.00</td>\n",
              "      <td>1</td>\n",
              "      <td>1738.69</td>\n",
              "      <td>1</td>\n",
              "      <td>AMZN</td>\n",
              "      <td>NaN</td>\n",
              "    </tr>\n",
              "    <tr>\n",
              "      <th>7142095</th>\n",
              "      <td>20190930</td>\n",
              "      <td>19:59:55.886602451</td>\n",
              "      <td>1737.10</td>\n",
              "      <td>1</td>\n",
              "      <td>1739.08</td>\n",
              "      <td>1</td>\n",
              "      <td>AMZN</td>\n",
              "      <td>NaN</td>\n",
              "    </tr>\n",
              "  </tbody>\n",
              "</table>\n",
              "<p>24804266 rows × 8 columns</p>\n",
              "</div>"
            ],
            "text/plain": [
              "             DATE              TIME_M      BID  ...  ASKSIZ  SYM_ROOT  SYM_SUFFIX\n",
              "0        20190701   4:00:00.107346963  1450.00  ...       0      AMZN         NaN\n",
              "1        20190701   4:00:00.107347160  1450.00  ...       0      AMZN         NaN\n",
              "2        20190701   4:00:00.107522947  1450.00  ...       2      AMZN         NaN\n",
              "3        20190701   4:00:00.107633493  1716.02  ...       2      AMZN         NaN\n",
              "4        20190701   4:00:00.107633683  1801.00  ...       2      AMZN         NaN\n",
              "...           ...                 ...      ...  ...     ...       ...         ...\n",
              "7142091  20190930  19:58:34.715776245  1737.10  ...       1      AMZN         NaN\n",
              "7142092  20190930  19:59:22.176415296  1737.40  ...       1      AMZN         NaN\n",
              "7142093  20190930  19:59:26.790716125  1737.53  ...       1      AMZN         NaN\n",
              "7142094  20190930  19:59:49.691360960  1736.00  ...       1      AMZN         NaN\n",
              "7142095  20190930  19:59:55.886602451  1737.10  ...       1      AMZN         NaN\n",
              "\n",
              "[24804266 rows x 8 columns]"
            ]
          },
          "metadata": {
            "tags": []
          },
          "execution_count": 12
        }
      ]
    },
    {
      "cell_type": "code",
      "metadata": {
        "colab": {
          "base_uri": "https://localhost:8080/",
          "height": 373
        },
        "id": "p3fk7DBKFAMU",
        "outputId": "b80a08ff-fed0-418c-a5de-415f3f5262a6"
      },
      "source": [
        "import matplotlib.pyplot as plt\n",
        "import numpy as np\n",
        "\n",
        "counts, bins = np.histogram(df.ASK)\n",
        "plt.hist(bins[:-1], bins, weights=counts)"
      ],
      "execution_count": null,
      "outputs": [
        {
          "output_type": "execute_result",
          "data": {
            "text/plain": [
              "(array([1.1019790e+06, 0.0000000e+00, 0.0000000e+00, 0.0000000e+00,\n",
              "        2.1606845e+07, 2.0952320e+06, 4.1000000e+01, 1.6600000e+02,\n",
              "        2.0000000e+00, 1.0000000e+00]),\n",
              " array([   0.   ,  401.423,  802.846, 1204.269, 1605.692, 2007.115,\n",
              "        2408.538, 2809.961, 3211.384, 3612.807, 4014.23 ]),\n",
              " <a list of 10 Patch objects>)"
            ]
          },
          "metadata": {
            "tags": []
          },
          "execution_count": 16
        },
        {
          "output_type": "display_data",
          "data": {
            "image/png": "[encoded data removed]",
            "text/plain": [
              "<Figure size 432x288 with 1 Axes>"
            ]
          },
          "metadata": {
            "tags": [],
            "needs_background": "light"
          }
        }
      ]
    },
    {
      "cell_type": "code",
      "metadata": {
        "id": "mC1dO0KZg5G0"
      },
      "source": [
        ""
      ],
      "execution_count": null,
      "outputs": []
    }
  ]
}